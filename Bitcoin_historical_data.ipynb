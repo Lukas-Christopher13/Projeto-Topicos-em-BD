{
 "cells": [
  {
   "cell_type": "code",
   "execution_count": 294,
   "metadata": {},
   "outputs": [],
   "source": [
    "import pandas as pd\n",
    "import seaborn as sns"
   ]
  },
  {
   "cell_type": "markdown",
   "metadata": {},
   "source": [
    "Read csv files"
   ]
  },
  {
   "cell_type": "code",
   "execution_count": 295,
   "metadata": {},
   "outputs": [],
   "source": [
    "df_BTC_2017 = pd.read_csv(\"archive/BTC-2017min.csv\")\n",
    "df_BTC_2018 = pd.read_csv(\"archive/BTC-2018min.csv\")\n",
    "df_BTC_2019 = pd.read_csv(\"archive/BTC-2019min.csv\")\n",
    "df_BTC_2020 = pd.read_csv(\"archive/BTC-2020min.csv\")\n",
    "df_BTC_2021 = pd.read_csv(\"archive/BTC-2021min.csv\")"
   ]
  },
  {
   "cell_type": "markdown",
   "metadata": {},
   "source": [
    "Concat all datafremes"
   ]
  },
  {
   "cell_type": "code",
   "execution_count": 296,
   "metadata": {},
   "outputs": [],
   "source": [
    "concat_BTC = pd.concat([df_BTC_2017, df_BTC_2018], axis=0)\n",
    "concat_BTC = pd.concat([concat_BTC, df_BTC_2019], axis=0)\n",
    "concat_BTC = pd.concat([concat_BTC, df_BTC_2020], axis=0)\n",
    "concat_BTC = pd.concat([concat_BTC, df_BTC_2021], axis=0)"
   ]
  },
  {
   "cell_type": "markdown",
   "metadata": {},
   "source": [
    "Sort BTC dataframe by date"
   ]
  },
  {
   "cell_type": "code",
   "execution_count": 297,
   "metadata": {},
   "outputs": [
    {
     "data": {
      "text/html": [
       "<div>\n",
       "<style scoped>\n",
       "    .dataframe tbody tr th:only-of-type {\n",
       "        vertical-align: middle;\n",
       "    }\n",
       "\n",
       "    .dataframe tbody tr th {\n",
       "        vertical-align: top;\n",
       "    }\n",
       "\n",
       "    .dataframe thead th {\n",
       "        text-align: right;\n",
       "    }\n",
       "</style>\n",
       "<table border=\"1\" class=\"dataframe\">\n",
       "  <thead>\n",
       "    <tr style=\"text-align: right;\">\n",
       "      <th></th>\n",
       "      <th>date</th>\n",
       "      <th>open</th>\n",
       "      <th>high</th>\n",
       "      <th>low</th>\n",
       "      <th>close</th>\n",
       "      <th>Volume BTC</th>\n",
       "      <th>Volume USD</th>\n",
       "    </tr>\n",
       "  </thead>\n",
       "  <tbody>\n",
       "    <tr>\n",
       "      <th>525598</th>\n",
       "      <td>2017-01-01 00:01:00</td>\n",
       "      <td>966.34</td>\n",
       "      <td>966.34</td>\n",
       "      <td>966.34</td>\n",
       "      <td>966.34</td>\n",
       "      <td>7.610000</td>\n",
       "      <td>7353.847400</td>\n",
       "    </tr>\n",
       "    <tr>\n",
       "      <th>525597</th>\n",
       "      <td>2017-01-01 00:02:00</td>\n",
       "      <td>966.16</td>\n",
       "      <td>966.37</td>\n",
       "      <td>966.16</td>\n",
       "      <td>966.37</td>\n",
       "      <td>8.087376</td>\n",
       "      <td>7815.397864</td>\n",
       "    </tr>\n",
       "    <tr>\n",
       "      <th>525596</th>\n",
       "      <td>2017-01-01 00:03:00</td>\n",
       "      <td>966.37</td>\n",
       "      <td>966.37</td>\n",
       "      <td>966.37</td>\n",
       "      <td>966.37</td>\n",
       "      <td>0.000000</td>\n",
       "      <td>0.000000</td>\n",
       "    </tr>\n",
       "    <tr>\n",
       "      <th>525595</th>\n",
       "      <td>2017-01-01 00:04:00</td>\n",
       "      <td>966.37</td>\n",
       "      <td>966.37</td>\n",
       "      <td>966.37</td>\n",
       "      <td>966.37</td>\n",
       "      <td>0.000000</td>\n",
       "      <td>0.000000</td>\n",
       "    </tr>\n",
       "    <tr>\n",
       "      <th>525594</th>\n",
       "      <td>2017-01-01 00:05:00</td>\n",
       "      <td>966.43</td>\n",
       "      <td>966.43</td>\n",
       "      <td>966.43</td>\n",
       "      <td>966.43</td>\n",
       "      <td>0.107000</td>\n",
       "      <td>103.408010</td>\n",
       "    </tr>\n",
       "  </tbody>\n",
       "</table>\n",
       "</div>"
      ],
      "text/plain": [
       "                      date    open    high     low   close  Volume BTC  \\\n",
       "525598 2017-01-01 00:01:00  966.34  966.34  966.34  966.34    7.610000   \n",
       "525597 2017-01-01 00:02:00  966.16  966.37  966.16  966.37    8.087376   \n",
       "525596 2017-01-01 00:03:00  966.37  966.37  966.37  966.37    0.000000   \n",
       "525595 2017-01-01 00:04:00  966.37  966.37  966.37  966.37    0.000000   \n",
       "525594 2017-01-01 00:05:00  966.43  966.43  966.43  966.43    0.107000   \n",
       "\n",
       "         Volume USD  \n",
       "525598  7353.847400  \n",
       "525597  7815.397864  \n",
       "525596     0.000000  \n",
       "525595     0.000000  \n",
       "525594   103.408010  "
      ]
     },
     "execution_count": 297,
     "metadata": {},
     "output_type": "execute_result"
    }
   ],
   "source": [
    "concat_BTC[\"date\"] = pd.to_datetime(concat_BTC[\"date\"])\n",
    "BTC_df = concat_BTC.sort_values(by=\"date\")\n",
    "BTC_df.drop(columns=[\"unix\", \"symbol\"], inplace=True)\n",
    "\n",
    "BTC_df.head()"
   ]
  },
  {
   "cell_type": "markdown",
   "metadata": {},
   "source": [
    "Cleaning Data"
   ]
  },
  {
   "cell_type": "code",
   "execution_count": 298,
   "metadata": {},
   "outputs": [
    {
     "data": {
      "text/plain": [
       "date          0\n",
       "open          0\n",
       "high          0\n",
       "low           0\n",
       "close         0\n",
       "Volume BTC    0\n",
       "Volume USD    0\n",
       "dtype: int64"
      ]
     },
     "execution_count": 298,
     "metadata": {},
     "output_type": "execute_result"
    }
   ],
   "source": [
    "BTC_df.isnull().sum()"
   ]
  },
  {
   "cell_type": "code",
   "execution_count": 299,
   "metadata": {},
   "outputs": [
    {
     "name": "stdout",
     "output_type": "stream",
     "text": [
      "<class 'pandas.core.frame.DataFrame'>\n",
      "Index: 2675301 entries, 525598 to 0\n",
      "Data columns (total 7 columns):\n",
      " #   Column      Dtype         \n",
      "---  ------      -----         \n",
      " 0   date        datetime64[ns]\n",
      " 1   open        float64       \n",
      " 2   high        float64       \n",
      " 3   low         float64       \n",
      " 4   close       float64       \n",
      " 5   Volume BTC  float64       \n",
      " 6   Volume USD  float64       \n",
      "dtypes: datetime64[ns](1), float64(6)\n",
      "memory usage: 163.3 MB\n"
     ]
    }
   ],
   "source": [
    "BTC_df.info()"
   ]
  },
  {
   "cell_type": "markdown",
   "metadata": {},
   "source": [
    "Checking for Null Values"
   ]
  },
  {
   "cell_type": "code",
   "execution_count": 300,
   "metadata": {},
   "outputs": [
    {
     "name": "stdout",
     "output_type": "stream",
     "text": [
      "Null values: 0\n"
     ]
    }
   ],
   "source": [
    "print(\"Null values:\", BTC_df.isnull().values.sum())"
   ]
  },
  {
   "cell_type": "code",
   "execution_count": 301,
   "metadata": {},
   "outputs": [
    {
     "name": "stdout",
     "output_type": "stream",
     "text": [
      "NaN values: False\n"
     ]
    }
   ],
   "source": [
    "print(\"NaN values:\", BTC_df.isnull().values.any())"
   ]
  },
  {
   "cell_type": "code",
   "execution_count": 302,
   "metadata": {},
   "outputs": [],
   "source": [
    "#criar as funções que limpam os dados mesmo assim "
   ]
  },
  {
   "cell_type": "markdown",
   "metadata": {},
   "source": [
    "Exploratory Data Analysis"
   ]
  },
  {
   "cell_type": "code",
   "execution_count": 303,
   "metadata": {},
   "outputs": [
    {
     "name": "stdout",
     "output_type": "stream",
     "text": [
      "Start date: 966.34\n",
      "End date: 43046.58\n"
     ]
    }
   ],
   "source": [
    "#print the start date and the end  date\n",
    "\n",
    "start_date = BTC_df.iloc[0][1]\n",
    "end_date = BTC_df.iloc[-1][1]\n",
    "\n",
    "print(\"Start date:\", start_date)\n",
    "print(\"End date:\", end_date)"
   ]
  },
  {
   "cell_type": "code",
   "execution_count": 304,
   "metadata": {},
   "outputs": [
    {
     "data": {
      "text/html": [
       "<div>\n",
       "<style scoped>\n",
       "    .dataframe tbody tr th:only-of-type {\n",
       "        vertical-align: middle;\n",
       "    }\n",
       "\n",
       "    .dataframe tbody tr th {\n",
       "        vertical-align: top;\n",
       "    }\n",
       "\n",
       "    .dataframe thead th {\n",
       "        text-align: right;\n",
       "    }\n",
       "</style>\n",
       "<table border=\"1\" class=\"dataframe\">\n",
       "  <thead>\n",
       "    <tr style=\"text-align: right;\">\n",
       "      <th></th>\n",
       "      <th>date</th>\n",
       "      <th>open</th>\n",
       "      <th>high</th>\n",
       "      <th>low</th>\n",
       "      <th>close</th>\n",
       "      <th>Volume BTC</th>\n",
       "      <th>Volume USD</th>\n",
       "    </tr>\n",
       "  </thead>\n",
       "  <tbody>\n",
       "    <tr>\n",
       "      <th>525598</th>\n",
       "      <td>2017-01-01</td>\n",
       "      <td>966.34</td>\n",
       "      <td>966.34</td>\n",
       "      <td>966.34</td>\n",
       "      <td>966.34</td>\n",
       "      <td>7.610000</td>\n",
       "      <td>7353.847400</td>\n",
       "    </tr>\n",
       "    <tr>\n",
       "      <th>525597</th>\n",
       "      <td>2017-01-01</td>\n",
       "      <td>966.16</td>\n",
       "      <td>966.37</td>\n",
       "      <td>966.16</td>\n",
       "      <td>966.37</td>\n",
       "      <td>8.087376</td>\n",
       "      <td>7815.397864</td>\n",
       "    </tr>\n",
       "    <tr>\n",
       "      <th>525596</th>\n",
       "      <td>2017-01-01</td>\n",
       "      <td>966.37</td>\n",
       "      <td>966.37</td>\n",
       "      <td>966.37</td>\n",
       "      <td>966.37</td>\n",
       "      <td>0.000000</td>\n",
       "      <td>0.000000</td>\n",
       "    </tr>\n",
       "    <tr>\n",
       "      <th>525595</th>\n",
       "      <td>2017-01-01</td>\n",
       "      <td>966.37</td>\n",
       "      <td>966.37</td>\n",
       "      <td>966.37</td>\n",
       "      <td>966.37</td>\n",
       "      <td>0.000000</td>\n",
       "      <td>0.000000</td>\n",
       "    </tr>\n",
       "    <tr>\n",
       "      <th>525594</th>\n",
       "      <td>2017-01-01</td>\n",
       "      <td>966.43</td>\n",
       "      <td>966.43</td>\n",
       "      <td>966.43</td>\n",
       "      <td>966.43</td>\n",
       "      <td>0.107000</td>\n",
       "      <td>103.408010</td>\n",
       "    </tr>\n",
       "  </tbody>\n",
       "</table>\n",
       "</div>"
      ],
      "text/plain": [
       "             date    open    high     low   close  Volume BTC   Volume USD\n",
       "525598 2017-01-01  966.34  966.34  966.34  966.34    7.610000  7353.847400\n",
       "525597 2017-01-01  966.16  966.37  966.16  966.37    8.087376  7815.397864\n",
       "525596 2017-01-01  966.37  966.37  966.37  966.37    0.000000     0.000000\n",
       "525595 2017-01-01  966.37  966.37  966.37  966.37    0.000000     0.000000\n",
       "525594 2017-01-01  966.43  966.43  966.43  966.43    0.107000   103.408010"
      ]
     },
     "execution_count": 304,
     "metadata": {},
     "output_type": "execute_result"
    }
   ],
   "source": [
    "BTC_df_date = BTC_df.copy()\n",
    "BTC_df_date[\"date\"] = pd.to_datetime(BTC_df_date[\"date\"])\n",
    "BTC_df_date[\"date\"] = BTC_df_date[\"date\"].dt.floor('H')\n",
    "\n",
    "\n",
    "\n",
    "BTC_df_date.head()"
   ]
  },
  {
   "cell_type": "code",
   "execution_count": 305,
   "metadata": {},
   "outputs": [
    {
     "data": {
      "text/html": [
       "<div>\n",
       "<style scoped>\n",
       "    .dataframe tbody tr th:only-of-type {\n",
       "        vertical-align: middle;\n",
       "    }\n",
       "\n",
       "    .dataframe tbody tr th {\n",
       "        vertical-align: top;\n",
       "    }\n",
       "\n",
       "    .dataframe thead tr th {\n",
       "        text-align: left;\n",
       "    }\n",
       "\n",
       "    .dataframe thead tr:last-of-type th {\n",
       "        text-align: right;\n",
       "    }\n",
       "</style>\n",
       "<table border=\"1\" class=\"dataframe\">\n",
       "  <thead>\n",
       "    <tr>\n",
       "      <th></th>\n",
       "      <th>open</th>\n",
       "      <th>high</th>\n",
       "      <th>low</th>\n",
       "      <th>close</th>\n",
       "      <th>Volume BTC</th>\n",
       "      <th>Volume USD</th>\n",
       "    </tr>\n",
       "    <tr>\n",
       "      <th></th>\n",
       "      <th>max</th>\n",
       "      <th>max</th>\n",
       "      <th>min</th>\n",
       "      <th>max</th>\n",
       "      <th>mean</th>\n",
       "      <th>mean</th>\n",
       "    </tr>\n",
       "    <tr>\n",
       "      <th>date</th>\n",
       "      <th></th>\n",
       "      <th></th>\n",
       "      <th></th>\n",
       "      <th></th>\n",
       "      <th></th>\n",
       "      <th></th>\n",
       "    </tr>\n",
       "  </thead>\n",
       "  <tbody>\n",
       "    <tr>\n",
       "      <th>2017-01-01 00:00:00</th>\n",
       "      <td>966.99</td>\n",
       "      <td>966.99</td>\n",
       "      <td>964.60</td>\n",
       "      <td>966.99</td>\n",
       "      <td>1.737031</td>\n",
       "      <td>1678.594542</td>\n",
       "    </tr>\n",
       "    <tr>\n",
       "      <th>2017-01-01 01:00:00</th>\n",
       "      <td>966.60</td>\n",
       "      <td>966.60</td>\n",
       "      <td>962.54</td>\n",
       "      <td>966.60</td>\n",
       "      <td>2.483759</td>\n",
       "      <td>2394.140661</td>\n",
       "    </tr>\n",
       "    <tr>\n",
       "      <th>2017-01-01 02:00:00</th>\n",
       "      <td>965.74</td>\n",
       "      <td>965.75</td>\n",
       "      <td>961.99</td>\n",
       "      <td>965.07</td>\n",
       "      <td>1.571123</td>\n",
       "      <td>1514.653480</td>\n",
       "    </tr>\n",
       "    <tr>\n",
       "      <th>2017-01-01 03:00:00</th>\n",
       "      <td>964.71</td>\n",
       "      <td>964.71</td>\n",
       "      <td>960.53</td>\n",
       "      <td>964.71</td>\n",
       "      <td>1.293661</td>\n",
       "      <td>1244.006219</td>\n",
       "    </tr>\n",
       "    <tr>\n",
       "      <th>2017-01-01 04:00:00</th>\n",
       "      <td>963.64</td>\n",
       "      <td>963.64</td>\n",
       "      <td>960.60</td>\n",
       "      <td>963.64</td>\n",
       "      <td>0.780170</td>\n",
       "      <td>750.944990</td>\n",
       "    </tr>\n",
       "  </tbody>\n",
       "</table>\n",
       "</div>"
      ],
      "text/plain": [
       "                       open    high     low   close Volume BTC   Volume USD\n",
       "                        max     max     min     max       mean         mean\n",
       "date                                                                       \n",
       "2017-01-01 00:00:00  966.99  966.99  964.60  966.99   1.737031  1678.594542\n",
       "2017-01-01 01:00:00  966.60  966.60  962.54  966.60   2.483759  2394.140661\n",
       "2017-01-01 02:00:00  965.74  965.75  961.99  965.07   1.571123  1514.653480\n",
       "2017-01-01 03:00:00  964.71  964.71  960.53  964.71   1.293661  1244.006219\n",
       "2017-01-01 04:00:00  963.64  963.64  960.60  963.64   0.780170   750.944990"
      ]
     },
     "execution_count": 305,
     "metadata": {},
     "output_type": "execute_result"
    }
   ],
   "source": [
    "BTC_agg = BTC_df_date.groupby(\"date\").agg({\n",
    "    \"open\": ['max'],\n",
    "    \"high\": ['max'],\n",
    "    \"low\": ['min'],\n",
    "    \"close\": ['max'],\n",
    "    \"Volume BTC\": ['mean'],\n",
    "    \"Volume USD\": ['mean']\n",
    "})\n",
    "BTC_agg.head()"
   ]
  },
  {
   "cell_type": "code",
   "execution_count": 306,
   "metadata": {},
   "outputs": [
    {
     "data": {
      "text/html": [
       "<div>\n",
       "<style scoped>\n",
       "    .dataframe tbody tr th:only-of-type {\n",
       "        vertical-align: middle;\n",
       "    }\n",
       "\n",
       "    .dataframe tbody tr th {\n",
       "        vertical-align: top;\n",
       "    }\n",
       "\n",
       "    .dataframe thead th {\n",
       "        text-align: right;\n",
       "    }\n",
       "</style>\n",
       "<table border=\"1\" class=\"dataframe\">\n",
       "  <thead>\n",
       "    <tr style=\"text-align: right;\">\n",
       "      <th></th>\n",
       "      <th>date</th>\n",
       "      <th>open_max</th>\n",
       "      <th>high_max</th>\n",
       "      <th>low_min</th>\n",
       "      <th>close_max</th>\n",
       "      <th>Volume BTC_mean</th>\n",
       "      <th>Volume USD_mean</th>\n",
       "      <th>horario</th>\n",
       "    </tr>\n",
       "  </thead>\n",
       "  <tbody>\n",
       "    <tr>\n",
       "      <th>0</th>\n",
       "      <td>2017-01-01 00:00:00</td>\n",
       "      <td>966.99</td>\n",
       "      <td>966.99</td>\n",
       "      <td>964.60</td>\n",
       "      <td>966.99</td>\n",
       "      <td>1.737031</td>\n",
       "      <td>1678.594542</td>\n",
       "      <td>00</td>\n",
       "    </tr>\n",
       "    <tr>\n",
       "      <th>1</th>\n",
       "      <td>2017-01-01 01:00:00</td>\n",
       "      <td>966.60</td>\n",
       "      <td>966.60</td>\n",
       "      <td>962.54</td>\n",
       "      <td>966.60</td>\n",
       "      <td>2.483759</td>\n",
       "      <td>2394.140661</td>\n",
       "      <td>01</td>\n",
       "    </tr>\n",
       "    <tr>\n",
       "      <th>2</th>\n",
       "      <td>2017-01-01 02:00:00</td>\n",
       "      <td>965.74</td>\n",
       "      <td>965.75</td>\n",
       "      <td>961.99</td>\n",
       "      <td>965.07</td>\n",
       "      <td>1.571123</td>\n",
       "      <td>1514.653480</td>\n",
       "      <td>02</td>\n",
       "    </tr>\n",
       "    <tr>\n",
       "      <th>3</th>\n",
       "      <td>2017-01-01 03:00:00</td>\n",
       "      <td>964.71</td>\n",
       "      <td>964.71</td>\n",
       "      <td>960.53</td>\n",
       "      <td>964.71</td>\n",
       "      <td>1.293661</td>\n",
       "      <td>1244.006219</td>\n",
       "      <td>03</td>\n",
       "    </tr>\n",
       "    <tr>\n",
       "      <th>4</th>\n",
       "      <td>2017-01-01 04:00:00</td>\n",
       "      <td>963.64</td>\n",
       "      <td>963.64</td>\n",
       "      <td>960.60</td>\n",
       "      <td>963.64</td>\n",
       "      <td>0.780170</td>\n",
       "      <td>750.944990</td>\n",
       "      <td>04</td>\n",
       "    </tr>\n",
       "  </tbody>\n",
       "</table>\n",
       "</div>"
      ],
      "text/plain": [
       "                 date  open_max  high_max  low_min  close_max  \\\n",
       "0 2017-01-01 00:00:00    966.99    966.99   964.60     966.99   \n",
       "1 2017-01-01 01:00:00    966.60    966.60   962.54     966.60   \n",
       "2 2017-01-01 02:00:00    965.74    965.75   961.99     965.07   \n",
       "3 2017-01-01 03:00:00    964.71    964.71   960.53     964.71   \n",
       "4 2017-01-01 04:00:00    963.64    963.64   960.60     963.64   \n",
       "\n",
       "   Volume BTC_mean  Volume USD_mean horario  \n",
       "0         1.737031      1678.594542      00  \n",
       "1         2.483759      2394.140661      01  \n",
       "2         1.571123      1514.653480      02  \n",
       "3         1.293661      1244.006219      03  \n",
       "4         0.780170       750.944990      04  "
      ]
     },
     "execution_count": 306,
     "metadata": {},
     "output_type": "execute_result"
    }
   ],
   "source": [
    "BTC_agg.columns = ['_'.join(col).strip() if isinstance(col, tuple) else col for col in BTC_agg.columns]\n",
    "BTC_agg = BTC_agg.reset_index() \n",
    "\n",
    "BTC_agg[\"horario\"] = BTC_agg[\"date\"].dt.strftime('%H')\n",
    "\n",
    "BTC_agg.head()"
   ]
  },
  {
   "cell_type": "code",
   "execution_count": 311,
   "metadata": {},
   "outputs": [
    {
     "name": "stdout",
     "output_type": "stream",
     "text": [
      "['date', 'open_max', 'high_max', 'low_min', 'close_max', 'Volume BTC_mean', 'Volume USD_mean', 'horario']\n"
     ]
    },
    {
     "data": {
      "text/plain": [
       "<Axes: >"
      ]
     },
     "execution_count": 311,
     "metadata": {},
     "output_type": "execute_result"
    },
    {
     "data": {
      "image/png": "[encoded data removed]",
      "text/plain": [
       "<Figure size 640x480 with 2 Axes>"
      ]
     },
     "metadata": {},
     "output_type": "display_data"
    }
   ],
   "source": [
    "\n",
    "atributos = list(BTC_agg.columns)\n",
    "print(atributos)\n",
    "sns.heatmap(BTC_agg[atributos[:]].corr(), cmap='coolwarm_r')"
   ]
  }
 ],
 "metadata": {
  "kernelspec": {
   "display_name": ".venv",
   "language": "python",
   "name": "python3"
  },
  "language_info": {
   "codemirror_mode": {
    "name": "ipython",
    "version": 3
   },
   "file_extension": ".py",
   "mimetype": "text/x-python",
   "name": "python",
   "nbconvert_exporter": "python",
   "pygments_lexer": "ipython3",
   "version": "3.8.10"
  }
 },
 "nbformat": 4,
 "nbformat_minor": 2
}
