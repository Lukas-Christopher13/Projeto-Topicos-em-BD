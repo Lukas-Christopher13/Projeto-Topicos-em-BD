{
 "cells": [
  {
   "cell_type": "markdown",
   "metadata": {},
   "source": [
    "<h1>Bitcoin Price Predict</h1>\n",
    "\n",
    "Sobre o Projeto: Esse projeto trata-se do desenvolvimento de um modelo preditivo para prever os preços futuros do Bitcoin em um 'range' de 30 dias, começando com a limpeza e pré-processamento de um dataset contendo os preços históricos do Bitcoin por minuto. Também foi desenvolvido uma funcionalidade utilizando regressão linear para prever os valores de alta, baixa e fechamento do bitcoin com base no valor de abertura da moeda. (\"alterar caso o dataset mude\")"
   ]
  },
  {
   "cell_type": "code",
   "execution_count": 81,
   "metadata": {},
   "outputs": [],
   "source": [
    "import joblib\n",
    "\n",
    "import pandas as pd\n",
    "import seaborn as sns\n",
    "import yfinance as yf\n",
    "\n",
    "from datetime import datetime\n",
    "from sklearn import linear_model\n",
    "from matplotlib import pyplot as plt"
   ]
  },
  {
   "cell_type": "markdown",
   "metadata": {},
   "source": [
    "<h2>Leitura e Tratamento dos dados</h2>"
   ]
  },
  {
   "cell_type": "markdown",
   "metadata": {},
   "source": [
    "<h4>Lê os arquivos csv que contem os dados</h4>"
   ]
  },
  {
   "cell_type": "code",
   "execution_count": 51,
   "metadata": {},
   "outputs": [],
   "source": [
    "df_BTC_2017 = pd.read_csv(\"archive/BTC-2017min.csv\")\n",
    "df_BTC_2018 = pd.read_csv(\"archive/BTC-2018min.csv\")\n",
    "df_BTC_2019 = pd.read_csv(\"archive/BTC-2019min.csv\")\n",
    "df_BTC_2020 = pd.read_csv(\"archive/BTC-2020min.csv\")\n",
    "df_BTC_2021 = pd.read_csv(\"archive/BTC-2021min.csv\")\n",
    "df_BTC_daily = pd.read_csv(\"archive/BTC-Daily.csv\")"
   ]
  },
  {
   "cell_type": "markdown",
   "metadata": {},
   "source": [
    "<h4>Concatena os datasets de diferentes anos em um único dataframe</h4>"
   ]
  },
  {
   "cell_type": "code",
   "execution_count": 4,
   "metadata": {},
   "outputs": [],
   "source": [
    "concat_BTC = pd.concat([df_BTC_2017, df_BTC_2018], axis=0)\n",
    "concat_BTC = pd.concat([concat_BTC, df_BTC_2019], axis=0)\n",
    "concat_BTC = pd.concat([concat_BTC, df_BTC_2020], axis=0)\n",
    "concat_BTC = pd.concat([concat_BTC, df_BTC_2021], axis=0)"
   ]
  },
  {
   "cell_type": "markdown",
   "metadata": {},
   "source": [
    "<h4>Ordena o dataframe pela coluna 'data'</h4>"
   ]
  },
  {
   "cell_type": "code",
   "execution_count": 5,
   "metadata": {},
   "outputs": [
    {
     "data": {
      "text/html": [
       "<div>\n",
       "<style scoped>\n",
       "    .dataframe tbody tr th:only-of-type {\n",
       "        vertical-align: middle;\n",
       "    }\n",
       "\n",
       "    .dataframe tbody tr th {\n",
       "        vertical-align: top;\n",
       "    }\n",
       "\n",
       "    .dataframe thead th {\n",
       "        text-align: right;\n",
       "    }\n",
       "</style>\n",
       "<table border=\"1\" class=\"dataframe\">\n",
       "  <thead>\n",
       "    <tr style=\"text-align: right;\">\n",
       "      <th></th>\n",
       "      <th>date</th>\n",
       "      <th>open</th>\n",
       "      <th>high</th>\n",
       "      <th>low</th>\n",
       "      <th>close</th>\n",
       "      <th>Volume BTC</th>\n",
       "      <th>Volume USD</th>\n",
       "    </tr>\n",
       "  </thead>\n",
       "  <tbody>\n",
       "    <tr>\n",
       "      <th>525598</th>\n",
       "      <td>2017-01-01 00:01:00</td>\n",
       "      <td>966.34</td>\n",
       "      <td>966.34</td>\n",
       "      <td>966.34</td>\n",
       "      <td>966.34</td>\n",
       "      <td>7.610000</td>\n",
       "      <td>7353.847400</td>\n",
       "    </tr>\n",
       "    <tr>\n",
       "      <th>525597</th>\n",
       "      <td>2017-01-01 00:02:00</td>\n",
       "      <td>966.16</td>\n",
       "      <td>966.37</td>\n",
       "      <td>966.16</td>\n",
       "      <td>966.37</td>\n",
       "      <td>8.087376</td>\n",
       "      <td>7815.397864</td>\n",
       "    </tr>\n",
       "    <tr>\n",
       "      <th>525596</th>\n",
       "      <td>2017-01-01 00:03:00</td>\n",
       "      <td>966.37</td>\n",
       "      <td>966.37</td>\n",
       "      <td>966.37</td>\n",
       "      <td>966.37</td>\n",
       "      <td>0.000000</td>\n",
       "      <td>0.000000</td>\n",
       "    </tr>\n",
       "    <tr>\n",
       "      <th>525595</th>\n",
       "      <td>2017-01-01 00:04:00</td>\n",
       "      <td>966.37</td>\n",
       "      <td>966.37</td>\n",
       "      <td>966.37</td>\n",
       "      <td>966.37</td>\n",
       "      <td>0.000000</td>\n",
       "      <td>0.000000</td>\n",
       "    </tr>\n",
       "    <tr>\n",
       "      <th>525594</th>\n",
       "      <td>2017-01-01 00:05:00</td>\n",
       "      <td>966.43</td>\n",
       "      <td>966.43</td>\n",
       "      <td>966.43</td>\n",
       "      <td>966.43</td>\n",
       "      <td>0.107000</td>\n",
       "      <td>103.408010</td>\n",
       "    </tr>\n",
       "  </tbody>\n",
       "</table>\n",
       "</div>"
      ],
      "text/plain": [
       "                      date    open    high     low   close  Volume BTC  \\\n",
       "525598 2017-01-01 00:01:00  966.34  966.34  966.34  966.34    7.610000   \n",
       "525597 2017-01-01 00:02:00  966.16  966.37  966.16  966.37    8.087376   \n",
       "525596 2017-01-01 00:03:00  966.37  966.37  966.37  966.37    0.000000   \n",
       "525595 2017-01-01 00:04:00  966.37  966.37  966.37  966.37    0.000000   \n",
       "525594 2017-01-01 00:05:00  966.43  966.43  966.43  966.43    0.107000   \n",
       "\n",
       "         Volume USD  \n",
       "525598  7353.847400  \n",
       "525597  7815.397864  \n",
       "525596     0.000000  \n",
       "525595     0.000000  \n",
       "525594   103.408010  "
      ]
     },
     "execution_count": 5,
     "metadata": {},
     "output_type": "execute_result"
    }
   ],
   "source": [
    "concat_BTC[\"date\"] = pd.to_datetime(concat_BTC[\"date\"])\n",
    "BTC_df = concat_BTC.sort_values(by=\"date\")\n",
    "BTC_df.drop(columns=[\"unix\", \"symbol\"], inplace=True)\n",
    "\n",
    "BTC_df.head()"
   ]
  },
  {
   "cell_type": "markdown",
   "metadata": {},
   "source": [
    "<h2>Limpesa dos dados</h2>"
   ]
  },
  {
   "cell_type": "markdown",
   "metadata": {},
   "source": [
    "<h4>Verifica a existência de dados nulos ou nan<h4>"
   ]
  },
  {
   "cell_type": "code",
   "execution_count": 6,
   "metadata": {},
   "outputs": [
    {
     "data": {
      "text/plain": [
       "date          0\n",
       "open          0\n",
       "high          0\n",
       "low           0\n",
       "close         0\n",
       "Volume BTC    0\n",
       "Volume USD    0\n",
       "dtype: int64"
      ]
     },
     "execution_count": 6,
     "metadata": {},
     "output_type": "execute_result"
    }
   ],
   "source": [
    "BTC_df.isnull().sum()"
   ]
  },
  {
   "cell_type": "markdown",
   "metadata": {},
   "source": [
    "<h4>Informa o tipo dos dados</h4>\n",
    "O tipo 'object' indicam existência de strings entre os dados, oque se configura como sujeira"
   ]
  },
  {
   "cell_type": "code",
   "execution_count": 7,
   "metadata": {},
   "outputs": [
    {
     "name": "stdout",
     "output_type": "stream",
     "text": [
      "<class 'pandas.core.frame.DataFrame'>\n",
      "Index: 2675301 entries, 525598 to 0\n",
      "Data columns (total 7 columns):\n",
      " #   Column      Dtype         \n",
      "---  ------      -----         \n",
      " 0   date        datetime64[ns]\n",
      " 1   open        float64       \n",
      " 2   high        float64       \n",
      " 3   low         float64       \n",
      " 4   close       float64       \n",
      " 5   Volume BTC  float64       \n",
      " 6   Volume USD  float64       \n",
      "dtypes: datetime64[ns](1), float64(6)\n",
      "memory usage: 163.3 MB\n"
     ]
    }
   ],
   "source": [
    "BTC_df.info()"
   ]
  },
  {
   "cell_type": "markdown",
   "metadata": {},
   "source": [
    "<h4>Busca por valores nulos</h4>"
   ]
  },
  {
   "cell_type": "code",
   "execution_count": 107,
   "metadata": {},
   "outputs": [
    {
     "name": "stdout",
     "output_type": "stream",
     "text": [
      "Null values: 0\n"
     ]
    }
   ],
   "source": [
    "print(\"Null values:\", BTC_df.isnull().values.sum())"
   ]
  },
  {
   "cell_type": "code",
   "execution_count": 108,
   "metadata": {},
   "outputs": [
    {
     "name": "stdout",
     "output_type": "stream",
     "text": [
      "NaN values: False\n"
     ]
    }
   ],
   "source": [
    "print(\"NaN values:\", BTC_df.isnull().values.any())"
   ]
  },
  {
   "cell_type": "code",
   "execution_count": 10,
   "metadata": {},
   "outputs": [],
   "source": [
    "#criar as funções que limpam os dados mesmo assim "
   ]
  },
  {
   "cell_type": "markdown",
   "metadata": {},
   "source": [
    "<h2>Análise dos dados</h2>"
   ]
  },
  {
   "cell_type": "markdown",
   "metadata": {},
   "source": [
    "<h4>Faz um copia do dataframe para adicionar as colunas 'hours' e 'minutes'</h4>"
   ]
  },
  {
   "cell_type": "code",
   "execution_count": 97,
   "metadata": {},
   "outputs": [
    {
     "data": {
      "text/html": [
       "<div>\n",
       "<style scoped>\n",
       "    .dataframe tbody tr th:only-of-type {\n",
       "        vertical-align: middle;\n",
       "    }\n",
       "\n",
       "    .dataframe tbody tr th {\n",
       "        vertical-align: top;\n",
       "    }\n",
       "\n",
       "    .dataframe thead th {\n",
       "        text-align: right;\n",
       "    }\n",
       "</style>\n",
       "<table border=\"1\" class=\"dataframe\">\n",
       "  <thead>\n",
       "    <tr style=\"text-align: right;\">\n",
       "      <th></th>\n",
       "      <th>date</th>\n",
       "      <th>open</th>\n",
       "      <th>high</th>\n",
       "      <th>low</th>\n",
       "      <th>close</th>\n",
       "      <th>Volume BTC</th>\n",
       "      <th>Volume USD</th>\n",
       "    </tr>\n",
       "  </thead>\n",
       "  <tbody>\n",
       "    <tr>\n",
       "      <th>525598</th>\n",
       "      <td>2017-01-01 00:01:00</td>\n",
       "      <td>966.34</td>\n",
       "      <td>966.34</td>\n",
       "      <td>966.34</td>\n",
       "      <td>966.34</td>\n",
       "      <td>7.610000</td>\n",
       "      <td>7353.847400</td>\n",
       "    </tr>\n",
       "    <tr>\n",
       "      <th>525597</th>\n",
       "      <td>2017-01-01 00:02:00</td>\n",
       "      <td>966.16</td>\n",
       "      <td>966.37</td>\n",
       "      <td>966.16</td>\n",
       "      <td>966.37</td>\n",
       "      <td>8.087376</td>\n",
       "      <td>7815.397864</td>\n",
       "    </tr>\n",
       "    <tr>\n",
       "      <th>525596</th>\n",
       "      <td>2017-01-01 00:03:00</td>\n",
       "      <td>966.37</td>\n",
       "      <td>966.37</td>\n",
       "      <td>966.37</td>\n",
       "      <td>966.37</td>\n",
       "      <td>0.000000</td>\n",
       "      <td>0.000000</td>\n",
       "    </tr>\n",
       "    <tr>\n",
       "      <th>525595</th>\n",
       "      <td>2017-01-01 00:04:00</td>\n",
       "      <td>966.37</td>\n",
       "      <td>966.37</td>\n",
       "      <td>966.37</td>\n",
       "      <td>966.37</td>\n",
       "      <td>0.000000</td>\n",
       "      <td>0.000000</td>\n",
       "    </tr>\n",
       "    <tr>\n",
       "      <th>525594</th>\n",
       "      <td>2017-01-01 00:05:00</td>\n",
       "      <td>966.43</td>\n",
       "      <td>966.43</td>\n",
       "      <td>966.43</td>\n",
       "      <td>966.43</td>\n",
       "      <td>0.107000</td>\n",
       "      <td>103.408010</td>\n",
       "    </tr>\n",
       "  </tbody>\n",
       "</table>\n",
       "</div>"
      ],
      "text/plain": [
       "                      date    open    high     low   close  Volume BTC  \\\n",
       "525598 2017-01-01 00:01:00  966.34  966.34  966.34  966.34    7.610000   \n",
       "525597 2017-01-01 00:02:00  966.16  966.37  966.16  966.37    8.087376   \n",
       "525596 2017-01-01 00:03:00  966.37  966.37  966.37  966.37    0.000000   \n",
       "525595 2017-01-01 00:04:00  966.37  966.37  966.37  966.37    0.000000   \n",
       "525594 2017-01-01 00:05:00  966.43  966.43  966.43  966.43    0.107000   \n",
       "\n",
       "         Volume USD  \n",
       "525598  7353.847400  \n",
       "525597  7815.397864  \n",
       "525596     0.000000  \n",
       "525595     0.000000  \n",
       "525594   103.408010  "
      ]
     },
     "execution_count": 97,
     "metadata": {},
     "output_type": "execute_result"
    }
   ],
   "source": [
    "BTC_df_date = BTC_df.copy()\n",
    "BTC_df_date[\"date\"] = pd.to_datetime(BTC_df_date[\"date\"])\n",
    "\n",
    "BTC_df_date.head()"
   ]
  },
  {
   "cell_type": "code",
   "execution_count": 109,
   "metadata": {},
   "outputs": [
    {
     "data": {
      "text/html": [
       "<div>\n",
       "<style scoped>\n",
       "    .dataframe tbody tr th:only-of-type {\n",
       "        vertical-align: middle;\n",
       "    }\n",
       "\n",
       "    .dataframe tbody tr th {\n",
       "        vertical-align: top;\n",
       "    }\n",
       "\n",
       "    .dataframe thead th {\n",
       "        text-align: right;\n",
       "    }\n",
       "</style>\n",
       "<table border=\"1\" class=\"dataframe\">\n",
       "  <thead>\n",
       "    <tr style=\"text-align: right;\">\n",
       "      <th></th>\n",
       "      <th>date</th>\n",
       "      <th>hours</th>\n",
       "      <th>minutes</th>\n",
       "      <th>open</th>\n",
       "      <th>high</th>\n",
       "      <th>low</th>\n",
       "      <th>close</th>\n",
       "      <th>Volume BTC</th>\n",
       "      <th>Volume USD</th>\n",
       "    </tr>\n",
       "  </thead>\n",
       "  <tbody>\n",
       "    <tr>\n",
       "      <th>525598</th>\n",
       "      <td>2017-01-01 00:01:00</td>\n",
       "      <td>00</td>\n",
       "      <td>01</td>\n",
       "      <td>966.34</td>\n",
       "      <td>966.34</td>\n",
       "      <td>966.34</td>\n",
       "      <td>966.34</td>\n",
       "      <td>7.610000</td>\n",
       "      <td>7353.847400</td>\n",
       "    </tr>\n",
       "    <tr>\n",
       "      <th>525597</th>\n",
       "      <td>2017-01-01 00:02:00</td>\n",
       "      <td>00</td>\n",
       "      <td>02</td>\n",
       "      <td>966.16</td>\n",
       "      <td>966.37</td>\n",
       "      <td>966.16</td>\n",
       "      <td>966.37</td>\n",
       "      <td>8.087376</td>\n",
       "      <td>7815.397864</td>\n",
       "    </tr>\n",
       "    <tr>\n",
       "      <th>525596</th>\n",
       "      <td>2017-01-01 00:03:00</td>\n",
       "      <td>00</td>\n",
       "      <td>03</td>\n",
       "      <td>966.37</td>\n",
       "      <td>966.37</td>\n",
       "      <td>966.37</td>\n",
       "      <td>966.37</td>\n",
       "      <td>0.000000</td>\n",
       "      <td>0.000000</td>\n",
       "    </tr>\n",
       "    <tr>\n",
       "      <th>525595</th>\n",
       "      <td>2017-01-01 00:04:00</td>\n",
       "      <td>00</td>\n",
       "      <td>04</td>\n",
       "      <td>966.37</td>\n",
       "      <td>966.37</td>\n",
       "      <td>966.37</td>\n",
       "      <td>966.37</td>\n",
       "      <td>0.000000</td>\n",
       "      <td>0.000000</td>\n",
       "    </tr>\n",
       "    <tr>\n",
       "      <th>525594</th>\n",
       "      <td>2017-01-01 00:05:00</td>\n",
       "      <td>00</td>\n",
       "      <td>05</td>\n",
       "      <td>966.43</td>\n",
       "      <td>966.43</td>\n",
       "      <td>966.43</td>\n",
       "      <td>966.43</td>\n",
       "      <td>0.107000</td>\n",
       "      <td>103.408010</td>\n",
       "    </tr>\n",
       "  </tbody>\n",
       "</table>\n",
       "</div>"
      ],
      "text/plain": [
       "                      date hours minutes    open    high     low   close  \\\n",
       "525598 2017-01-01 00:01:00    00      01  966.34  966.34  966.34  966.34   \n",
       "525597 2017-01-01 00:02:00    00      02  966.16  966.37  966.16  966.37   \n",
       "525596 2017-01-01 00:03:00    00      03  966.37  966.37  966.37  966.37   \n",
       "525595 2017-01-01 00:04:00    00      04  966.37  966.37  966.37  966.37   \n",
       "525594 2017-01-01 00:05:00    00      05  966.43  966.43  966.43  966.43   \n",
       "\n",
       "        Volume BTC   Volume USD  \n",
       "525598    7.610000  7353.847400  \n",
       "525597    8.087376  7815.397864  \n",
       "525596    0.000000     0.000000  \n",
       "525595    0.000000     0.000000  \n",
       "525594    0.107000   103.408010  "
      ]
     },
     "execution_count": 109,
     "metadata": {},
     "output_type": "execute_result"
    }
   ],
   "source": [
    "\n",
    "BTC_df_date[\"hours\"] = BTC_df_date[\"date\"].dt.strftime('%H')\n",
    "BTC_df_date[\"minutes\"] = BTC_df_date[\"date\"].dt.strftime('%M')\n",
    "\n",
    "new_order = ['date', 'hours', 'minutes', 'open', 'high', 'low', 'close', 'Volume BTC', 'Volume USD']\n",
    "BTC_df_date = BTC_df_date[new_order]\n",
    "\n",
    "BTC_df_date.head()"
   ]
  },
  {
   "cell_type": "markdown",
   "metadata": {},
   "source": [
    "<h4>Descreve estatisticamente os dados</h4>"
   ]
  },
  {
   "cell_type": "code",
   "execution_count": 14,
   "metadata": {},
   "outputs": [
    {
     "data": {
      "text/html": [
       "<div>\n",
       "<style scoped>\n",
       "    .dataframe tbody tr th:only-of-type {\n",
       "        vertical-align: middle;\n",
       "    }\n",
       "\n",
       "    .dataframe tbody tr th {\n",
       "        vertical-align: top;\n",
       "    }\n",
       "\n",
       "    .dataframe thead th {\n",
       "        text-align: right;\n",
       "    }\n",
       "</style>\n",
       "<table border=\"1\" class=\"dataframe\">\n",
       "  <thead>\n",
       "    <tr style=\"text-align: right;\">\n",
       "      <th></th>\n",
       "      <th>count</th>\n",
       "      <th>mean</th>\n",
       "      <th>std</th>\n",
       "      <th>min</th>\n",
       "      <th>25%</th>\n",
       "      <th>50%</th>\n",
       "      <th>75%</th>\n",
       "      <th>max</th>\n",
       "    </tr>\n",
       "  </thead>\n",
       "  <tbody>\n",
       "    <tr>\n",
       "      <th>open</th>\n",
       "      <td>2675301.0</td>\n",
       "      <td>16209.934130</td>\n",
       "      <td>17422.284122</td>\n",
       "      <td>752.00</td>\n",
       "      <td>5599.040000</td>\n",
       "      <td>8703.120000</td>\n",
       "      <td>15500.000000</td>\n",
       "      <td>6.900000e+04</td>\n",
       "    </tr>\n",
       "    <tr>\n",
       "      <th>high</th>\n",
       "      <td>2675301.0</td>\n",
       "      <td>16219.884786</td>\n",
       "      <td>17432.005397</td>\n",
       "      <td>752.81</td>\n",
       "      <td>5602.000000</td>\n",
       "      <td>8709.860000</td>\n",
       "      <td>15510.000000</td>\n",
       "      <td>6.900000e+04</td>\n",
       "    </tr>\n",
       "    <tr>\n",
       "      <th>low</th>\n",
       "      <td>2675301.0</td>\n",
       "      <td>16199.614220</td>\n",
       "      <td>17412.357549</td>\n",
       "      <td>751.34</td>\n",
       "      <td>5594.980000</td>\n",
       "      <td>8696.910000</td>\n",
       "      <td>15487.930000</td>\n",
       "      <td>6.879999e+04</td>\n",
       "    </tr>\n",
       "    <tr>\n",
       "      <th>close</th>\n",
       "      <td>2675301.0</td>\n",
       "      <td>16209.956812</td>\n",
       "      <td>17422.441952</td>\n",
       "      <td>752.04</td>\n",
       "      <td>5598.880000</td>\n",
       "      <td>8702.810000</td>\n",
       "      <td>15500.000000</td>\n",
       "      <td>6.900000e+04</td>\n",
       "    </tr>\n",
       "    <tr>\n",
       "      <th>Volume BTC</th>\n",
       "      <td>2675301.0</td>\n",
       "      <td>6.130515</td>\n",
       "      <td>16.292996</td>\n",
       "      <td>0.00</td>\n",
       "      <td>0.251895</td>\n",
       "      <td>1.467694</td>\n",
       "      <td>5.507826</td>\n",
       "      <td>1.616060e+03</td>\n",
       "    </tr>\n",
       "    <tr>\n",
       "      <th>Volume USD</th>\n",
       "      <td>2675301.0</td>\n",
       "      <td>70794.025116</td>\n",
       "      <td>203035.282225</td>\n",
       "      <td>0.00</td>\n",
       "      <td>2244.546085</td>\n",
       "      <td>14664.666104</td>\n",
       "      <td>58659.083903</td>\n",
       "      <td>1.396792e+07</td>\n",
       "    </tr>\n",
       "  </tbody>\n",
       "</table>\n",
       "</div>"
      ],
      "text/plain": [
       "                count          mean            std     min          25%  \\\n",
       "open        2675301.0  16209.934130   17422.284122  752.00  5599.040000   \n",
       "high        2675301.0  16219.884786   17432.005397  752.81  5602.000000   \n",
       "low         2675301.0  16199.614220   17412.357549  751.34  5594.980000   \n",
       "close       2675301.0  16209.956812   17422.441952  752.04  5598.880000   \n",
       "Volume BTC  2675301.0      6.130515      16.292996    0.00     0.251895   \n",
       "Volume USD  2675301.0  70794.025116  203035.282225    0.00  2244.546085   \n",
       "\n",
       "                     50%           75%           max  \n",
       "open         8703.120000  15500.000000  6.900000e+04  \n",
       "high         8709.860000  15510.000000  6.900000e+04  \n",
       "low          8696.910000  15487.930000  6.879999e+04  \n",
       "close        8702.810000  15500.000000  6.900000e+04  \n",
       "Volume BTC      1.467694      5.507826  1.616060e+03  \n",
       "Volume USD  14664.666104  58659.083903  1.396792e+07  "
      ]
     },
     "execution_count": 14,
     "metadata": {},
     "output_type": "execute_result"
    }
   ],
   "source": [
    "cols = ['open', 'high', 'low', 'close', 'Volume BTC', 'Volume USD']\n",
    "BTC_df_date[cols].describe().T"
   ]
  },
  {
   "cell_type": "markdown",
   "metadata": {},
   "source": [
    "<h4>Correlação dos dados</h4>"
   ]
  },
  {
   "cell_type": "code",
   "execution_count": 15,
   "metadata": {},
   "outputs": [
    {
     "data": {
      "text/html": [
       "<div>\n",
       "<style scoped>\n",
       "    .dataframe tbody tr th:only-of-type {\n",
       "        vertical-align: middle;\n",
       "    }\n",
       "\n",
       "    .dataframe tbody tr th {\n",
       "        vertical-align: top;\n",
       "    }\n",
       "\n",
       "    .dataframe thead th {\n",
       "        text-align: right;\n",
       "    }\n",
       "</style>\n",
       "<table border=\"1\" class=\"dataframe\">\n",
       "  <thead>\n",
       "    <tr style=\"text-align: right;\">\n",
       "      <th></th>\n",
       "      <th>date</th>\n",
       "      <th>hours</th>\n",
       "      <th>minutes</th>\n",
       "      <th>open</th>\n",
       "      <th>high</th>\n",
       "      <th>low</th>\n",
       "      <th>close</th>\n",
       "      <th>Volume BTC</th>\n",
       "      <th>Volume USD</th>\n",
       "    </tr>\n",
       "  </thead>\n",
       "  <tbody>\n",
       "    <tr>\n",
       "      <th>date</th>\n",
       "      <td>1.000000</td>\n",
       "      <td>0.000490</td>\n",
       "      <td>0.000003</td>\n",
       "      <td>0.779437</td>\n",
       "      <td>0.779404</td>\n",
       "      <td>0.779484</td>\n",
       "      <td>0.779437</td>\n",
       "      <td>-0.124351</td>\n",
       "      <td>0.132140</td>\n",
       "    </tr>\n",
       "    <tr>\n",
       "      <th>hours</th>\n",
       "      <td>0.000490</td>\n",
       "      <td>1.000000</td>\n",
       "      <td>0.000017</td>\n",
       "      <td>0.000331</td>\n",
       "      <td>0.000360</td>\n",
       "      <td>0.000295</td>\n",
       "      <td>0.000332</td>\n",
       "      <td>0.035704</td>\n",
       "      <td>0.030170</td>\n",
       "    </tr>\n",
       "    <tr>\n",
       "      <th>minutes</th>\n",
       "      <td>0.000003</td>\n",
       "      <td>0.000017</td>\n",
       "      <td>1.000000</td>\n",
       "      <td>-0.000007</td>\n",
       "      <td>-0.000029</td>\n",
       "      <td>0.000014</td>\n",
       "      <td>-0.000008</td>\n",
       "      <td>-0.014853</td>\n",
       "      <td>-0.014346</td>\n",
       "    </tr>\n",
       "    <tr>\n",
       "      <th>open</th>\n",
       "      <td>0.779437</td>\n",
       "      <td>0.000331</td>\n",
       "      <td>-0.000007</td>\n",
       "      <td>1.000000</td>\n",
       "      <td>0.999999</td>\n",
       "      <td>0.999999</td>\n",
       "      <td>0.999999</td>\n",
       "      <td>-0.100665</td>\n",
       "      <td>0.193483</td>\n",
       "    </tr>\n",
       "    <tr>\n",
       "      <th>high</th>\n",
       "      <td>0.779404</td>\n",
       "      <td>0.000360</td>\n",
       "      <td>-0.000029</td>\n",
       "      <td>0.999999</td>\n",
       "      <td>1.000000</td>\n",
       "      <td>0.999998</td>\n",
       "      <td>0.999999</td>\n",
       "      <td>-0.100439</td>\n",
       "      <td>0.193935</td>\n",
       "    </tr>\n",
       "    <tr>\n",
       "      <th>low</th>\n",
       "      <td>0.779484</td>\n",
       "      <td>0.000295</td>\n",
       "      <td>0.000014</td>\n",
       "      <td>0.999999</td>\n",
       "      <td>0.999998</td>\n",
       "      <td>1.000000</td>\n",
       "      <td>0.999999</td>\n",
       "      <td>-0.100938</td>\n",
       "      <td>0.192952</td>\n",
       "    </tr>\n",
       "    <tr>\n",
       "      <th>close</th>\n",
       "      <td>0.779437</td>\n",
       "      <td>0.000332</td>\n",
       "      <td>-0.000008</td>\n",
       "      <td>0.999999</td>\n",
       "      <td>0.999999</td>\n",
       "      <td>0.999999</td>\n",
       "      <td>1.000000</td>\n",
       "      <td>-0.100687</td>\n",
       "      <td>0.193455</td>\n",
       "    </tr>\n",
       "    <tr>\n",
       "      <th>Volume BTC</th>\n",
       "      <td>-0.124351</td>\n",
       "      <td>0.035704</td>\n",
       "      <td>-0.014853</td>\n",
       "      <td>-0.100665</td>\n",
       "      <td>-0.100439</td>\n",
       "      <td>-0.100938</td>\n",
       "      <td>-0.100687</td>\n",
       "      <td>1.000000</td>\n",
       "      <td>0.652679</td>\n",
       "    </tr>\n",
       "    <tr>\n",
       "      <th>Volume USD</th>\n",
       "      <td>0.132140</td>\n",
       "      <td>0.030170</td>\n",
       "      <td>-0.014346</td>\n",
       "      <td>0.193483</td>\n",
       "      <td>0.193935</td>\n",
       "      <td>0.192952</td>\n",
       "      <td>0.193455</td>\n",
       "      <td>0.652679</td>\n",
       "      <td>1.000000</td>\n",
       "    </tr>\n",
       "  </tbody>\n",
       "</table>\n",
       "</div>"
      ],
      "text/plain": [
       "                date     hours   minutes      open      high       low  \\\n",
       "date        1.000000  0.000490  0.000003  0.779437  0.779404  0.779484   \n",
       "hours       0.000490  1.000000  0.000017  0.000331  0.000360  0.000295   \n",
       "minutes     0.000003  0.000017  1.000000 -0.000007 -0.000029  0.000014   \n",
       "open        0.779437  0.000331 -0.000007  1.000000  0.999999  0.999999   \n",
       "high        0.779404  0.000360 -0.000029  0.999999  1.000000  0.999998   \n",
       "low         0.779484  0.000295  0.000014  0.999999  0.999998  1.000000   \n",
       "close       0.779437  0.000332 -0.000008  0.999999  0.999999  0.999999   \n",
       "Volume BTC -0.124351  0.035704 -0.014853 -0.100665 -0.100439 -0.100938   \n",
       "Volume USD  0.132140  0.030170 -0.014346  0.193483  0.193935  0.192952   \n",
       "\n",
       "               close  Volume BTC  Volume USD  \n",
       "date        0.779437   -0.124351    0.132140  \n",
       "hours       0.000332    0.035704    0.030170  \n",
       "minutes    -0.000008   -0.014853   -0.014346  \n",
       "open        0.999999   -0.100665    0.193483  \n",
       "high        0.999999   -0.100439    0.193935  \n",
       "low         0.999999   -0.100938    0.192952  \n",
       "close       1.000000   -0.100687    0.193455  \n",
       "Volume BTC -0.100687    1.000000    0.652679  \n",
       "Volume USD  0.193455    0.652679    1.000000  "
      ]
     },
     "execution_count": 15,
     "metadata": {},
     "output_type": "execute_result"
    }
   ],
   "source": [
    "BTC_df_date.corr()"
   ]
  },
  {
   "cell_type": "markdown",
   "metadata": {},
   "source": [
    "<h4>HeatMap da Correlação</h4>"
   ]
  },
  {
   "cell_type": "code",
   "execution_count": 16,
   "metadata": {},
   "outputs": [
    {
     "name": "stdout",
     "output_type": "stream",
     "text": [
      "['date', 'hours', 'minutes', 'open', 'high', 'low', 'close', 'Volume BTC', 'Volume USD']\n"
     ]
    },
    {
     "data": {
      "text/plain": [
       "<Axes: >"
      ]
     },
     "execution_count": 16,
     "metadata": {},
     "output_type": "execute_result"
    },
    {
     "data": {
      "image/png": "[encoded data removed]",
      "text/plain": [
       "<Figure size 640x480 with 2 Axes>"
      ]
     },
     "metadata": {},
     "output_type": "display_data"
    }
   ],
   "source": [
    "atributos = list(BTC_df_date.columns)\n",
    "print(atributos)\n",
    "sns.heatmap(BTC_df_date[atributos[:]].corr(), cmap='coolwarm_r')"
   ]
  },
  {
   "cell_type": "markdown",
   "metadata": {},
   "source": [
    "<h2>Gráficos da correlação linear para o dataframe: 'df_BTC_daily'</h2>"
   ]
  },
  {
   "cell_type": "markdown",
   "metadata": {},
   "source": [
    "<h4>Gráfico da reta entre 'open' e 'close'</h4>"
   ]
  },
  {
   "cell_type": "code",
   "execution_count": 112,
   "metadata": {},
   "outputs": [
    {
     "data": {
      "text/plain": [
       "<matplotlib.collections.PathCollection at 0x74946621a220>"
      ]
     },
     "execution_count": 112,
     "metadata": {},
     "output_type": "execute_result"
    },
    {
     "data": {
      "image/png": "[encoded data removed]",
      "text/plain": [
       "<Figure size 640x480 with 1 Axes>"
      ]
     },
     "metadata": {},
     "output_type": "display_data"
    }
   ],
   "source": [
    "\n",
    "plt.scatter(df_BTC_daily[\"open\"].values, df_BTC_daily[\"close\"].values)"
   ]
  },
  {
   "cell_type": "markdown",
   "metadata": {},
   "source": [
    "<h4>Gráfico da reta entre 'open' e 'high'</h4>"
   ]
  },
  {
   "cell_type": "code",
   "execution_count": 115,
   "metadata": {},
   "outputs": [
    {
     "data": {
      "text/plain": [
       "<matplotlib.collections.PathCollection at 0x7493e655d1c0>"
      ]
     },
     "execution_count": 115,
     "metadata": {},
     "output_type": "execute_result"
    },
    {
     "data": {
      "image/png": "[encoded data removed]",
      "text/plain": [
       "<Figure size 640x480 with 1 Axes>"
      ]
     },
     "metadata": {},
     "output_type": "display_data"
    }
   ],
   "source": [
    "plt.scatter(df_BTC_daily[\"open\"].values, df_BTC_daily[\"high\"].values)"
   ]
  },
  {
   "cell_type": "markdown",
   "metadata": {},
   "source": [
    "<h4>Gráfico da reta entre 'open' e 'low'</h4>"
   ]
  },
  {
   "cell_type": "code",
   "execution_count": 116,
   "metadata": {},
   "outputs": [
    {
     "data": {
      "text/plain": [
       "<matplotlib.collections.PathCollection at 0x7493e8ff8c10>"
      ]
     },
     "execution_count": 116,
     "metadata": {},
     "output_type": "execute_result"
    },
    {
     "data": {
      "image/png": "[encoded data removed]",
      "text/plain": [
       "<Figure size 640x480 with 1 Axes>"
      ]
     },
     "metadata": {},
     "output_type": "display_data"
    }
   ],
   "source": [
    "plt.scatter(df_BTC_daily[\"open\"].values, df_BTC_daily[\"low\"].values)"
   ]
  },
  {
   "cell_type": "markdown",
   "metadata": {},
   "source": [
    "<h2>Criação dos modelos de Regressão Linear</h2>"
   ]
  },
  {
   "cell_type": "markdown",
   "metadata": {},
   "source": [
    "Modelo de Regressao Linear(high)"
   ]
  },
  {
   "cell_type": "code",
   "execution_count": 117,
   "metadata": {},
   "outputs": [
    {
     "data": {
      "text/html": [
       "<style>#sk-container-id-11 {color: black;}#sk-container-id-11 pre{padding: 0;}#sk-container-id-11 div.sk-toggleable {background-color: white;}#sk-container-id-11 label.sk-toggleable__label {cursor: pointer;display: block;width: 100%;margin-bottom: 0;padding: 0.3em;box-sizing: border-box;text-align: center;}#sk-container-id-11 label.sk-toggleable__label-arrow:before {content: \"▸\";float: left;margin-right: 0.25em;color: #696969;}#sk-container-id-11 label.sk-toggleable__label-arrow:hover:before {color: black;}#sk-container-id-11 div.sk-estimator:hover label.sk-toggleable__label-arrow:before {color: black;}#sk-container-id-11 div.sk-toggleable__content {max-height: 0;max-width: 0;overflow: hidden;text-align: left;background-color: #f0f8ff;}#sk-container-id-11 div.sk-toggleable__content pre {margin: 0.2em;color: black;border-radius: 0.25em;background-color: #f0f8ff;}#sk-container-id-11 input.sk-toggleable__control:checked~div.sk-toggleable__content {max-height: 200px;max-width: 100%;overflow: auto;}#sk-container-id-11 input.sk-toggleable__control:checked~label.sk-toggleable__label-arrow:before {content: \"▾\";}#sk-container-id-11 div.sk-estimator input.sk-toggleable__control:checked~label.sk-toggleable__label {background-color: #d4ebff;}#sk-container-id-11 div.sk-label input.sk-toggleable__control:checked~label.sk-toggleable__label {background-color: #d4ebff;}#sk-container-id-11 input.sk-hidden--visually {border: 0;clip: rect(1px 1px 1px 1px);clip: rect(1px, 1px, 1px, 1px);height: 1px;margin: -1px;overflow: hidden;padding: 0;position: absolute;width: 1px;}#sk-container-id-11 div.sk-estimator {font-family: monospace;background-color: #f0f8ff;border: 1px dotted black;border-radius: 0.25em;box-sizing: border-box;margin-bottom: 0.5em;}#sk-container-id-11 div.sk-estimator:hover {background-color: #d4ebff;}#sk-container-id-11 div.sk-parallel-item::after {content: \"\";width: 100%;border-bottom: 1px solid gray;flex-grow: 1;}#sk-container-id-11 div.sk-label:hover label.sk-toggleable__label {background-color: #d4ebff;}#sk-container-id-11 div.sk-serial::before {content: \"\";position: absolute;border-left: 1px solid gray;box-sizing: border-box;top: 0;bottom: 0;left: 50%;z-index: 0;}#sk-container-id-11 div.sk-serial {display: flex;flex-direction: column;align-items: center;background-color: white;padding-right: 0.2em;padding-left: 0.2em;position: relative;}#sk-container-id-11 div.sk-item {position: relative;z-index: 1;}#sk-container-id-11 div.sk-parallel {display: flex;align-items: stretch;justify-content: center;background-color: white;position: relative;}#sk-container-id-11 div.sk-item::before, #sk-container-id-11 div.sk-parallel-item::before {content: \"\";position: absolute;border-left: 1px solid gray;box-sizing: border-box;top: 0;bottom: 0;left: 50%;z-index: -1;}#sk-container-id-11 div.sk-parallel-item {display: flex;flex-direction: column;z-index: 1;position: relative;background-color: white;}#sk-container-id-11 div.sk-parallel-item:first-child::after {align-self: flex-end;width: 50%;}#sk-container-id-11 div.sk-parallel-item:last-child::after {align-self: flex-start;width: 50%;}#sk-container-id-11 div.sk-parallel-item:only-child::after {width: 0;}#sk-container-id-11 div.sk-dashed-wrapped {border: 1px dashed gray;margin: 0 0.4em 0.5em 0.4em;box-sizing: border-box;padding-bottom: 0.4em;background-color: white;}#sk-container-id-11 div.sk-label label {font-family: monospace;font-weight: bold;display: inline-block;line-height: 1.2em;}#sk-container-id-11 div.sk-label-container {text-align: center;}#sk-container-id-11 div.sk-container {/* jupyter's `normalize.less` sets `[hidden] { display: none; }` but bootstrap.min.css set `[hidden] { display: none !important; }` so we also need the `!important` here to be able to override the default hidden behavior on the sphinx rendered scikit-learn.org. See: https://github.com/scikit-learn/scikit-learn/issues/21755 */display: inline-block !important;position: relative;}#sk-container-id-11 div.sk-text-repr-fallback {display: none;}</style><div id=\"sk-container-id-11\" class=\"sk-top-container\"><div class=\"sk-text-repr-fallback\"><pre>LinearRegression()</pre><b>In a Jupyter environment, please rerun this cell to show the HTML representation or trust the notebook. <br />On GitHub, the HTML representation is unable to render, please try loading this page with nbviewer.org.</b></div><div class=\"sk-container\" hidden><div class=\"sk-item\"><div class=\"sk-estimator sk-toggleable\"><input class=\"sk-toggleable__control sk-hidden--visually\" id=\"sk-estimator-id-11\" type=\"checkbox\" checked><label for=\"sk-estimator-id-11\" class=\"sk-toggleable__label sk-toggleable__label-arrow\">LinearRegression</label><div class=\"sk-toggleable__content\"><pre>LinearRegression()</pre></div></div></div></div></div>"
      ],
      "text/plain": [
       "LinearRegression()"
      ]
     },
     "execution_count": 117,
     "metadata": {},
     "output_type": "execute_result"
    }
   ],
   "source": [
    "x = df_BTC_daily[\"open\"].values.reshape(-1, 1)\n",
    "y = df_BTC_daily[\"high\"].values\n",
    "\n",
    "predict_teste_values = [[966.34], [912], [320]]\n",
    "\n",
    "model_high = linear_model.LinearRegression()\n",
    "model_high.fit(x, y)\n"
   ]
  },
  {
   "cell_type": "code",
   "execution_count": 80,
   "metadata": {},
   "outputs": [
    {
     "name": "stdout",
     "output_type": "stream",
     "text": [
      "[1009.75562137  953.88596481  345.22132212]\n"
     ]
    }
   ],
   "source": [
    "joblib.dump(model_high, \"models/high_model.pkl\")\n",
    "loaded_model = joblib.load(\"models/high_model.pkl\") \n",
    "\n",
    "pred = loaded_model.predict(predict_teste_values)\n",
    "print(pred)"
   ]
  },
  {
   "cell_type": "markdown",
   "metadata": {},
   "source": [
    "Modelo de Regressão Linear(Close)"
   ]
  },
  {
   "cell_type": "code",
   "execution_count": 74,
   "metadata": {},
   "outputs": [
    {
     "data": {
      "text/html": [
       "<style>#sk-container-id-8 {color: black;}#sk-container-id-8 pre{padding: 0;}#sk-container-id-8 div.sk-toggleable {background-color: white;}#sk-container-id-8 label.sk-toggleable__label {cursor: pointer;display: block;width: 100%;margin-bottom: 0;padding: 0.3em;box-sizing: border-box;text-align: center;}#sk-container-id-8 label.sk-toggleable__label-arrow:before {content: \"▸\";float: left;margin-right: 0.25em;color: #696969;}#sk-container-id-8 label.sk-toggleable__label-arrow:hover:before {color: black;}#sk-container-id-8 div.sk-estimator:hover label.sk-toggleable__label-arrow:before {color: black;}#sk-container-id-8 div.sk-toggleable__content {max-height: 0;max-width: 0;overflow: hidden;text-align: left;background-color: #f0f8ff;}#sk-container-id-8 div.sk-toggleable__content pre {margin: 0.2em;color: black;border-radius: 0.25em;background-color: #f0f8ff;}#sk-container-id-8 input.sk-toggleable__control:checked~div.sk-toggleable__content {max-height: 200px;max-width: 100%;overflow: auto;}#sk-container-id-8 input.sk-toggleable__control:checked~label.sk-toggleable__label-arrow:before {content: \"▾\";}#sk-container-id-8 div.sk-estimator input.sk-toggleable__control:checked~label.sk-toggleable__label {background-color: #d4ebff;}#sk-container-id-8 div.sk-label input.sk-toggleable__control:checked~label.sk-toggleable__label {background-color: #d4ebff;}#sk-container-id-8 input.sk-hidden--visually {border: 0;clip: rect(1px 1px 1px 1px);clip: rect(1px, 1px, 1px, 1px);height: 1px;margin: -1px;overflow: hidden;padding: 0;position: absolute;width: 1px;}#sk-container-id-8 div.sk-estimator {font-family: monospace;background-color: #f0f8ff;border: 1px dotted black;border-radius: 0.25em;box-sizing: border-box;margin-bottom: 0.5em;}#sk-container-id-8 div.sk-estimator:hover {background-color: #d4ebff;}#sk-container-id-8 div.sk-parallel-item::after {content: \"\";width: 100%;border-bottom: 1px solid gray;flex-grow: 1;}#sk-container-id-8 div.sk-label:hover label.sk-toggleable__label {background-color: #d4ebff;}#sk-container-id-8 div.sk-serial::before {content: \"\";position: absolute;border-left: 1px solid gray;box-sizing: border-box;top: 0;bottom: 0;left: 50%;z-index: 0;}#sk-container-id-8 div.sk-serial {display: flex;flex-direction: column;align-items: center;background-color: white;padding-right: 0.2em;padding-left: 0.2em;position: relative;}#sk-container-id-8 div.sk-item {position: relative;z-index: 1;}#sk-container-id-8 div.sk-parallel {display: flex;align-items: stretch;justify-content: center;background-color: white;position: relative;}#sk-container-id-8 div.sk-item::before, #sk-container-id-8 div.sk-parallel-item::before {content: \"\";position: absolute;border-left: 1px solid gray;box-sizing: border-box;top: 0;bottom: 0;left: 50%;z-index: -1;}#sk-container-id-8 div.sk-parallel-item {display: flex;flex-direction: column;z-index: 1;position: relative;background-color: white;}#sk-container-id-8 div.sk-parallel-item:first-child::after {align-self: flex-end;width: 50%;}#sk-container-id-8 div.sk-parallel-item:last-child::after {align-self: flex-start;width: 50%;}#sk-container-id-8 div.sk-parallel-item:only-child::after {width: 0;}#sk-container-id-8 div.sk-dashed-wrapped {border: 1px dashed gray;margin: 0 0.4em 0.5em 0.4em;box-sizing: border-box;padding-bottom: 0.4em;background-color: white;}#sk-container-id-8 div.sk-label label {font-family: monospace;font-weight: bold;display: inline-block;line-height: 1.2em;}#sk-container-id-8 div.sk-label-container {text-align: center;}#sk-container-id-8 div.sk-container {/* jupyter's `normalize.less` sets `[hidden] { display: none; }` but bootstrap.min.css set `[hidden] { display: none !important; }` so we also need the `!important` here to be able to override the default hidden behavior on the sphinx rendered scikit-learn.org. See: https://github.com/scikit-learn/scikit-learn/issues/21755 */display: inline-block !important;position: relative;}#sk-container-id-8 div.sk-text-repr-fallback {display: none;}</style><div id=\"sk-container-id-8\" class=\"sk-top-container\"><div class=\"sk-text-repr-fallback\"><pre>LinearRegression()</pre><b>In a Jupyter environment, please rerun this cell to show the HTML representation or trust the notebook. <br />On GitHub, the HTML representation is unable to render, please try loading this page with nbviewer.org.</b></div><div class=\"sk-container\" hidden><div class=\"sk-item\"><div class=\"sk-estimator sk-toggleable\"><input class=\"sk-toggleable__control sk-hidden--visually\" id=\"sk-estimator-id-8\" type=\"checkbox\" checked><label for=\"sk-estimator-id-8\" class=\"sk-toggleable__label sk-toggleable__label-arrow\">LinearRegression</label><div class=\"sk-toggleable__content\"><pre>LinearRegression()</pre></div></div></div></div></div>"
      ],
      "text/plain": [
       "LinearRegression()"
      ]
     },
     "execution_count": 74,
     "metadata": {},
     "output_type": "execute_result"
    }
   ],
   "source": [
    "x = df_BTC_daily[\"open\"].values.reshape(-1, 1)\n",
    "y = df_BTC_daily[\"close\"].values\n",
    "\n",
    "model_close = linear_model.LinearRegression()\n",
    "model_close.fit(x, y)"
   ]
  },
  {
   "cell_type": "code",
   "execution_count": 75,
   "metadata": {},
   "outputs": [
    {
     "name": "stdout",
     "output_type": "stream",
     "text": [
      "[988.5569556  934.247756   342.58330696]\n"
     ]
    }
   ],
   "source": [
    "joblib.dump(model_close, \"models/close_model.pkl\")\n",
    "loaded_model = joblib.load(\"models/close_model.pkl\") \n",
    "\n",
    "pred = loaded_model.predict(predict_teste_values)\n",
    "print(pred)"
   ]
  },
  {
   "cell_type": "markdown",
   "metadata": {},
   "source": [
    "Modelo de Regressão Linear(Low)"
   ]
  },
  {
   "cell_type": "code",
   "execution_count": 76,
   "metadata": {},
   "outputs": [
    {
     "data": {
      "text/html": [
       "<style>#sk-container-id-9 {color: black;}#sk-container-id-9 pre{padding: 0;}#sk-container-id-9 div.sk-toggleable {background-color: white;}#sk-container-id-9 label.sk-toggleable__label {cursor: pointer;display: block;width: 100%;margin-bottom: 0;padding: 0.3em;box-sizing: border-box;text-align: center;}#sk-container-id-9 label.sk-toggleable__label-arrow:before {content: \"▸\";float: left;margin-right: 0.25em;color: #696969;}#sk-container-id-9 label.sk-toggleable__label-arrow:hover:before {color: black;}#sk-container-id-9 div.sk-estimator:hover label.sk-toggleable__label-arrow:before {color: black;}#sk-container-id-9 div.sk-toggleable__content {max-height: 0;max-width: 0;overflow: hidden;text-align: left;background-color: #f0f8ff;}#sk-container-id-9 div.sk-toggleable__content pre {margin: 0.2em;color: black;border-radius: 0.25em;background-color: #f0f8ff;}#sk-container-id-9 input.sk-toggleable__control:checked~div.sk-toggleable__content {max-height: 200px;max-width: 100%;overflow: auto;}#sk-container-id-9 input.sk-toggleable__control:checked~label.sk-toggleable__label-arrow:before {content: \"▾\";}#sk-container-id-9 div.sk-estimator input.sk-toggleable__control:checked~label.sk-toggleable__label {background-color: #d4ebff;}#sk-container-id-9 div.sk-label input.sk-toggleable__control:checked~label.sk-toggleable__label {background-color: #d4ebff;}#sk-container-id-9 input.sk-hidden--visually {border: 0;clip: rect(1px 1px 1px 1px);clip: rect(1px, 1px, 1px, 1px);height: 1px;margin: -1px;overflow: hidden;padding: 0;position: absolute;width: 1px;}#sk-container-id-9 div.sk-estimator {font-family: monospace;background-color: #f0f8ff;border: 1px dotted black;border-radius: 0.25em;box-sizing: border-box;margin-bottom: 0.5em;}#sk-container-id-9 div.sk-estimator:hover {background-color: #d4ebff;}#sk-container-id-9 div.sk-parallel-item::after {content: \"\";width: 100%;border-bottom: 1px solid gray;flex-grow: 1;}#sk-container-id-9 div.sk-label:hover label.sk-toggleable__label {background-color: #d4ebff;}#sk-container-id-9 div.sk-serial::before {content: \"\";position: absolute;border-left: 1px solid gray;box-sizing: border-box;top: 0;bottom: 0;left: 50%;z-index: 0;}#sk-container-id-9 div.sk-serial {display: flex;flex-direction: column;align-items: center;background-color: white;padding-right: 0.2em;padding-left: 0.2em;position: relative;}#sk-container-id-9 div.sk-item {position: relative;z-index: 1;}#sk-container-id-9 div.sk-parallel {display: flex;align-items: stretch;justify-content: center;background-color: white;position: relative;}#sk-container-id-9 div.sk-item::before, #sk-container-id-9 div.sk-parallel-item::before {content: \"\";position: absolute;border-left: 1px solid gray;box-sizing: border-box;top: 0;bottom: 0;left: 50%;z-index: -1;}#sk-container-id-9 div.sk-parallel-item {display: flex;flex-direction: column;z-index: 1;position: relative;background-color: white;}#sk-container-id-9 div.sk-parallel-item:first-child::after {align-self: flex-end;width: 50%;}#sk-container-id-9 div.sk-parallel-item:last-child::after {align-self: flex-start;width: 50%;}#sk-container-id-9 div.sk-parallel-item:only-child::after {width: 0;}#sk-container-id-9 div.sk-dashed-wrapped {border: 1px dashed gray;margin: 0 0.4em 0.5em 0.4em;box-sizing: border-box;padding-bottom: 0.4em;background-color: white;}#sk-container-id-9 div.sk-label label {font-family: monospace;font-weight: bold;display: inline-block;line-height: 1.2em;}#sk-container-id-9 div.sk-label-container {text-align: center;}#sk-container-id-9 div.sk-container {/* jupyter's `normalize.less` sets `[hidden] { display: none; }` but bootstrap.min.css set `[hidden] { display: none !important; }` so we also need the `!important` here to be able to override the default hidden behavior on the sphinx rendered scikit-learn.org. See: https://github.com/scikit-learn/scikit-learn/issues/21755 */display: inline-block !important;position: relative;}#sk-container-id-9 div.sk-text-repr-fallback {display: none;}</style><div id=\"sk-container-id-9\" class=\"sk-top-container\"><div class=\"sk-text-repr-fallback\"><pre>LinearRegression()</pre><b>In a Jupyter environment, please rerun this cell to show the HTML representation or trust the notebook. <br />On GitHub, the HTML representation is unable to render, please try loading this page with nbviewer.org.</b></div><div class=\"sk-container\" hidden><div class=\"sk-item\"><div class=\"sk-estimator sk-toggleable\"><input class=\"sk-toggleable__control sk-hidden--visually\" id=\"sk-estimator-id-9\" type=\"checkbox\" checked><label for=\"sk-estimator-id-9\" class=\"sk-toggleable__label sk-toggleable__label-arrow\">LinearRegression</label><div class=\"sk-toggleable__content\"><pre>LinearRegression()</pre></div></div></div></div></div>"
      ],
      "text/plain": [
       "LinearRegression()"
      ]
     },
     "execution_count": 76,
     "metadata": {},
     "output_type": "execute_result"
    }
   ],
   "source": [
    "x = df_BTC_daily[\"open\"].values.reshape(-1, 1)\n",
    "y = df_BTC_daily[\"low\"].values\n",
    "\n",
    "model_low = linear_model.LinearRegression()\n",
    "model_low.fit(x, y)"
   ]
  },
  {
   "cell_type": "code",
   "execution_count": 77,
   "metadata": {},
   "outputs": [
    {
     "name": "stdout",
     "output_type": "stream",
     "text": [
      "[945.59374585 893.15799583 321.90359733]\n"
     ]
    }
   ],
   "source": [
    "joblib.dump(model_low, \"models/low_model.pkl\")\n",
    "loaded_model = joblib.load(\"models/low_model.pkl\") \n",
    "\n",
    "pred = loaded_model.predict(predict_teste_values)\n",
    "print(pred)"
   ]
  },
  {
   "cell_type": "markdown",
   "metadata": {},
   "source": [
    "<h2>Previsão dos valores \"high\", \"low\" e \"close\" para hoje</h2>"
   ]
  },
  {
   "cell_type": "code",
   "execution_count": 120,
   "metadata": {},
   "outputs": [
    {
     "name": "stdout",
     "output_type": "stream",
     "text": [
      "Preço de abertura do Bitcoin hoje: $69346.71875\n",
      "Preço mais alto previsto para o Bitcoin hoje: $71315.02386341515\n",
      "Preço mais baixo previsto para o Bitcoin hoje: $66929.70207678182\n",
      "Preço de fechamento do Bitcoin hoje: $69330.1770887245\n"
     ]
    }
   ],
   "source": [
    "bitcoin = yf.Ticker(\"BTC-USD\")\n",
    "historical_data = bitcoin.history(period=\"1d\")\n",
    "\n",
    "price_open = historical_data['Open'].iloc[0] if not historical_data.empty else None\n",
    "price_open_ = [[price_open]]\n",
    "\n",
    "high_model = joblib.load(\"models/high_model.pkl\")\n",
    "low_model = joblib.load(\"models/low_model.pkl\") \n",
    "close_model = joblib.load(\"models/close_model.pkl\")  \n",
    "\n",
    "high_pred = high_model.predict(price_open_)\n",
    "low_pred = low_model.predict(price_open_)\n",
    "close_pred = close_model.predict(price_open_)\n",
    "\n",
    "print(f\"Preço de abertura do Bitcoin hoje: ${price_open}\")\n",
    "print(f\"Preço mais alto previsto para o Bitcoin hoje: ${high_pred[0]}\")\n",
    "print(f\"Preço mais baixo previsto para o Bitcoin hoje: ${low_pred[0]}\")\n",
    "print(f\"Preço de fechamento do Bitcoin hoje: ${close_pred[0]}\")\n"
   ]
  }
 ],
 "metadata": {
  "kernelspec": {
   "display_name": ".venv",
   "language": "python",
   "name": "python3"
  },
  "language_info": {
   "codemirror_mode": {
    "name": "ipython",
    "version": 3
   },
   "file_extension": ".py",
   "mimetype": "text/x-python",
   "name": "python",
   "nbconvert_exporter": "python",
   "pygments_lexer": "ipython3",
   "version": "3.8.10"
  }
 },
 "nbformat": 4,
 "nbformat_minor": 2
}
