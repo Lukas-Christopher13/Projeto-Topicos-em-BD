{
 "cells": [
  {
   "cell_type": "code",
   "execution_count": 3,
   "metadata": {},
   "outputs": [],
   "source": [
    "import pandas as pd\n",
    "import seaborn as sns"
   ]
  },
  {
   "cell_type": "markdown",
   "metadata": {},
   "source": [
    "Read csv files"
   ]
  },
  {
   "cell_type": "code",
   "execution_count": 4,
   "metadata": {},
   "outputs": [],
   "source": [
    "df_BTC_2017 = pd.read_csv(\"archive/BTC-2017min.csv\")\n",
    "df_BTC_2018 = pd.read_csv(\"archive/BTC-2018min.csv\")\n",
    "df_BTC_2019 = pd.read_csv(\"archive/BTC-2019min.csv\")\n",
    "df_BTC_2020 = pd.read_csv(\"archive/BTC-2020min.csv\")\n",
    "df_BTC_2021 = pd.read_csv(\"archive/BTC-2021min.csv\")"
   ]
  },
  {
   "cell_type": "markdown",
   "metadata": {},
   "source": [
    "Concat all datafremes"
   ]
  },
  {
   "cell_type": "code",
   "execution_count": 5,
   "metadata": {},
   "outputs": [],
   "source": [
    "concat_BTC = pd.concat([df_BTC_2017, df_BTC_2018], axis=0)\n",
    "concat_BTC = pd.concat([concat_BTC, df_BTC_2019], axis=0)\n",
    "concat_BTC = pd.concat([concat_BTC, df_BTC_2020], axis=0)\n",
    "concat_BTC = pd.concat([concat_BTC, df_BTC_2021], axis=0)"
   ]
  },
  {
   "cell_type": "markdown",
   "metadata": {},
   "source": [
    "Sort BTC dataframe by date"
   ]
  },
  {
   "cell_type": "code",
   "execution_count": 6,
   "metadata": {},
   "outputs": [
    {
     "data": {
      "text/html": [
       "<div>\n",
       "<style scoped>\n",
       "    .dataframe tbody tr th:only-of-type {\n",
       "        vertical-align: middle;\n",
       "    }\n",
       "\n",
       "    .dataframe tbody tr th {\n",
       "        vertical-align: top;\n",
       "    }\n",
       "\n",
       "    .dataframe thead th {\n",
       "        text-align: right;\n",
       "    }\n",
       "</style>\n",
       "<table border=\"1\" class=\"dataframe\">\n",
       "  <thead>\n",
       "    <tr style=\"text-align: right;\">\n",
       "      <th></th>\n",
       "      <th>date</th>\n",
       "      <th>open</th>\n",
       "      <th>high</th>\n",
       "      <th>low</th>\n",
       "      <th>close</th>\n",
       "      <th>Volume BTC</th>\n",
       "      <th>Volume USD</th>\n",
       "    </tr>\n",
       "  </thead>\n",
       "  <tbody>\n",
       "    <tr>\n",
       "      <th>525598</th>\n",
       "      <td>2017-01-01 00:01:00</td>\n",
       "      <td>966.34</td>\n",
       "      <td>966.34</td>\n",
       "      <td>966.34</td>\n",
       "      <td>966.34</td>\n",
       "      <td>7.610000</td>\n",
       "      <td>7353.847400</td>\n",
       "    </tr>\n",
       "    <tr>\n",
       "      <th>525597</th>\n",
       "      <td>2017-01-01 00:02:00</td>\n",
       "      <td>966.16</td>\n",
       "      <td>966.37</td>\n",
       "      <td>966.16</td>\n",
       "      <td>966.37</td>\n",
       "      <td>8.087376</td>\n",
       "      <td>7815.397864</td>\n",
       "    </tr>\n",
       "    <tr>\n",
       "      <th>525596</th>\n",
       "      <td>2017-01-01 00:03:00</td>\n",
       "      <td>966.37</td>\n",
       "      <td>966.37</td>\n",
       "      <td>966.37</td>\n",
       "      <td>966.37</td>\n",
       "      <td>0.000000</td>\n",
       "      <td>0.000000</td>\n",
       "    </tr>\n",
       "    <tr>\n",
       "      <th>525595</th>\n",
       "      <td>2017-01-01 00:04:00</td>\n",
       "      <td>966.37</td>\n",
       "      <td>966.37</td>\n",
       "      <td>966.37</td>\n",
       "      <td>966.37</td>\n",
       "      <td>0.000000</td>\n",
       "      <td>0.000000</td>\n",
       "    </tr>\n",
       "    <tr>\n",
       "      <th>525594</th>\n",
       "      <td>2017-01-01 00:05:00</td>\n",
       "      <td>966.43</td>\n",
       "      <td>966.43</td>\n",
       "      <td>966.43</td>\n",
       "      <td>966.43</td>\n",
       "      <td>0.107000</td>\n",
       "      <td>103.408010</td>\n",
       "    </tr>\n",
       "  </tbody>\n",
       "</table>\n",
       "</div>"
      ],
      "text/plain": [
       "                      date    open    high     low   close  Volume BTC  \\\n",
       "525598 2017-01-01 00:01:00  966.34  966.34  966.34  966.34    7.610000   \n",
       "525597 2017-01-01 00:02:00  966.16  966.37  966.16  966.37    8.087376   \n",
       "525596 2017-01-01 00:03:00  966.37  966.37  966.37  966.37    0.000000   \n",
       "525595 2017-01-01 00:04:00  966.37  966.37  966.37  966.37    0.000000   \n",
       "525594 2017-01-01 00:05:00  966.43  966.43  966.43  966.43    0.107000   \n",
       "\n",
       "         Volume USD  \n",
       "525598  7353.847400  \n",
       "525597  7815.397864  \n",
       "525596     0.000000  \n",
       "525595     0.000000  \n",
       "525594   103.408010  "
      ]
     },
     "execution_count": 6,
     "metadata": {},
     "output_type": "execute_result"
    }
   ],
   "source": [
    "concat_BTC[\"date\"] = pd.to_datetime(concat_BTC[\"date\"])\n",
    "BTC_df = concat_BTC.sort_values(by=\"date\")\n",
    "BTC_df.drop(columns=[\"unix\", \"symbol\"], inplace=True)\n",
    "\n",
    "BTC_df.head()"
   ]
  },
  {
   "cell_type": "markdown",
   "metadata": {},
   "source": [
    "Cleaning Data"
   ]
  },
  {
   "cell_type": "code",
   "execution_count": 7,
   "metadata": {},
   "outputs": [
    {
     "data": {
      "text/plain": [
       "date          0\n",
       "open          0\n",
       "high          0\n",
       "low           0\n",
       "close         0\n",
       "Volume BTC    0\n",
       "Volume USD    0\n",
       "dtype: int64"
      ]
     },
     "execution_count": 7,
     "metadata": {},
     "output_type": "execute_result"
    }
   ],
   "source": [
    "BTC_df.isnull().sum()"
   ]
  },
  {
   "cell_type": "code",
   "execution_count": 8,
   "metadata": {},
   "outputs": [
    {
     "name": "stdout",
     "output_type": "stream",
     "text": [
      "<class 'pandas.core.frame.DataFrame'>\n",
      "Index: 2675301 entries, 525598 to 0\n",
      "Data columns (total 7 columns):\n",
      " #   Column      Dtype         \n",
      "---  ------      -----         \n",
      " 0   date        datetime64[ns]\n",
      " 1   open        float64       \n",
      " 2   high        float64       \n",
      " 3   low         float64       \n",
      " 4   close       float64       \n",
      " 5   Volume BTC  float64       \n",
      " 6   Volume USD  float64       \n",
      "dtypes: datetime64[ns](1), float64(6)\n",
      "memory usage: 163.3 MB\n"
     ]
    }
   ],
   "source": [
    "BTC_df.info()"
   ]
  },
  {
   "cell_type": "markdown",
   "metadata": {},
   "source": [
    "Checking for Null Values"
   ]
  },
  {
   "cell_type": "code",
   "execution_count": 9,
   "metadata": {},
   "outputs": [
    {
     "name": "stdout",
     "output_type": "stream",
     "text": [
      "Null values: 0\n"
     ]
    }
   ],
   "source": [
    "print(\"Null values:\", BTC_df.isnull().values.sum())"
   ]
  },
  {
   "cell_type": "code",
   "execution_count": 10,
   "metadata": {},
   "outputs": [
    {
     "name": "stdout",
     "output_type": "stream",
     "text": [
      "NaN values: False\n"
     ]
    }
   ],
   "source": [
    "print(\"NaN values:\", BTC_df.isnull().values.any())"
   ]
  },
  {
   "cell_type": "code",
   "execution_count": 11,
   "metadata": {},
   "outputs": [],
   "source": [
    "#criar as funções que limpam os dados mesmo assim "
   ]
  },
  {
   "cell_type": "markdown",
   "metadata": {},
   "source": [
    "Exploratory Data Analysis"
   ]
  },
  {
   "cell_type": "code",
   "execution_count": 12,
   "metadata": {},
   "outputs": [
    {
     "name": "stdout",
     "output_type": "stream",
     "text": [
      "Start date: 966.34\n",
      "End date: 43046.58\n"
     ]
    }
   ],
   "source": [
    "#print the start date and the end  date\n",
    "\n",
    "start_date = BTC_df.iloc[0][1]\n",
    "end_date = BTC_df.iloc[-1][1]\n",
    "\n",
    "print(\"Start date:\", start_date)\n",
    "print(\"End date:\", end_date)"
   ]
  },
  {
   "cell_type": "code",
   "execution_count": 13,
   "metadata": {},
   "outputs": [
    {
     "data": {
      "text/html": [
       "<div>\n",
       "<style scoped>\n",
       "    .dataframe tbody tr th:only-of-type {\n",
       "        vertical-align: middle;\n",
       "    }\n",
       "\n",
       "    .dataframe tbody tr th {\n",
       "        vertical-align: top;\n",
       "    }\n",
       "\n",
       "    .dataframe thead th {\n",
       "        text-align: right;\n",
       "    }\n",
       "</style>\n",
       "<table border=\"1\" class=\"dataframe\">\n",
       "  <thead>\n",
       "    <tr style=\"text-align: right;\">\n",
       "      <th></th>\n",
       "      <th>date</th>\n",
       "      <th>open</th>\n",
       "      <th>high</th>\n",
       "      <th>low</th>\n",
       "      <th>close</th>\n",
       "      <th>Volume BTC</th>\n",
       "      <th>Volume USD</th>\n",
       "    </tr>\n",
       "  </thead>\n",
       "  <tbody>\n",
       "    <tr>\n",
       "      <th>525598</th>\n",
       "      <td>2017-01-01 00:01:00</td>\n",
       "      <td>966.34</td>\n",
       "      <td>966.34</td>\n",
       "      <td>966.34</td>\n",
       "      <td>966.34</td>\n",
       "      <td>7.610000</td>\n",
       "      <td>7353.847400</td>\n",
       "    </tr>\n",
       "    <tr>\n",
       "      <th>525597</th>\n",
       "      <td>2017-01-01 00:02:00</td>\n",
       "      <td>966.16</td>\n",
       "      <td>966.37</td>\n",
       "      <td>966.16</td>\n",
       "      <td>966.37</td>\n",
       "      <td>8.087376</td>\n",
       "      <td>7815.397864</td>\n",
       "    </tr>\n",
       "    <tr>\n",
       "      <th>525596</th>\n",
       "      <td>2017-01-01 00:03:00</td>\n",
       "      <td>966.37</td>\n",
       "      <td>966.37</td>\n",
       "      <td>966.37</td>\n",
       "      <td>966.37</td>\n",
       "      <td>0.000000</td>\n",
       "      <td>0.000000</td>\n",
       "    </tr>\n",
       "    <tr>\n",
       "      <th>525595</th>\n",
       "      <td>2017-01-01 00:04:00</td>\n",
       "      <td>966.37</td>\n",
       "      <td>966.37</td>\n",
       "      <td>966.37</td>\n",
       "      <td>966.37</td>\n",
       "      <td>0.000000</td>\n",
       "      <td>0.000000</td>\n",
       "    </tr>\n",
       "    <tr>\n",
       "      <th>525594</th>\n",
       "      <td>2017-01-01 00:05:00</td>\n",
       "      <td>966.43</td>\n",
       "      <td>966.43</td>\n",
       "      <td>966.43</td>\n",
       "      <td>966.43</td>\n",
       "      <td>0.107000</td>\n",
       "      <td>103.408010</td>\n",
       "    </tr>\n",
       "  </tbody>\n",
       "</table>\n",
       "</div>"
      ],
      "text/plain": [
       "                      date    open    high     low   close  Volume BTC  \\\n",
       "525598 2017-01-01 00:01:00  966.34  966.34  966.34  966.34    7.610000   \n",
       "525597 2017-01-01 00:02:00  966.16  966.37  966.16  966.37    8.087376   \n",
       "525596 2017-01-01 00:03:00  966.37  966.37  966.37  966.37    0.000000   \n",
       "525595 2017-01-01 00:04:00  966.37  966.37  966.37  966.37    0.000000   \n",
       "525594 2017-01-01 00:05:00  966.43  966.43  966.43  966.43    0.107000   \n",
       "\n",
       "         Volume USD  \n",
       "525598  7353.847400  \n",
       "525597  7815.397864  \n",
       "525596     0.000000  \n",
       "525595     0.000000  \n",
       "525594   103.408010  "
      ]
     },
     "execution_count": 13,
     "metadata": {},
     "output_type": "execute_result"
    }
   ],
   "source": [
    "BTC_df_date = BTC_df.copy()\n",
    "BTC_df_date[\"date\"] = pd.to_datetime(BTC_df_date[\"date\"])\n",
    "\n",
    "BTC_df_date.head()"
   ]
  },
  {
   "cell_type": "code",
   "execution_count": 14,
   "metadata": {},
   "outputs": [
    {
     "data": {
      "text/html": [
       "<div>\n",
       "<style scoped>\n",
       "    .dataframe tbody tr th:only-of-type {\n",
       "        vertical-align: middle;\n",
       "    }\n",
       "\n",
       "    .dataframe tbody tr th {\n",
       "        vertical-align: top;\n",
       "    }\n",
       "\n",
       "    .dataframe thead th {\n",
       "        text-align: right;\n",
       "    }\n",
       "</style>\n",
       "<table border=\"1\" class=\"dataframe\">\n",
       "  <thead>\n",
       "    <tr style=\"text-align: right;\">\n",
       "      <th></th>\n",
       "      <th>date</th>\n",
       "      <th>hours</th>\n",
       "      <th>minutes</th>\n",
       "      <th>open</th>\n",
       "      <th>high</th>\n",
       "      <th>low</th>\n",
       "      <th>close</th>\n",
       "      <th>Volume BTC</th>\n",
       "      <th>Volume USD</th>\n",
       "    </tr>\n",
       "  </thead>\n",
       "  <tbody>\n",
       "    <tr>\n",
       "      <th>525598</th>\n",
       "      <td>2017-01-01 00:01:00</td>\n",
       "      <td>00</td>\n",
       "      <td>01</td>\n",
       "      <td>966.34</td>\n",
       "      <td>966.34</td>\n",
       "      <td>966.34</td>\n",
       "      <td>966.34</td>\n",
       "      <td>7.610000</td>\n",
       "      <td>7353.847400</td>\n",
       "    </tr>\n",
       "    <tr>\n",
       "      <th>525597</th>\n",
       "      <td>2017-01-01 00:02:00</td>\n",
       "      <td>00</td>\n",
       "      <td>02</td>\n",
       "      <td>966.16</td>\n",
       "      <td>966.37</td>\n",
       "      <td>966.16</td>\n",
       "      <td>966.37</td>\n",
       "      <td>8.087376</td>\n",
       "      <td>7815.397864</td>\n",
       "    </tr>\n",
       "    <tr>\n",
       "      <th>525596</th>\n",
       "      <td>2017-01-01 00:03:00</td>\n",
       "      <td>00</td>\n",
       "      <td>03</td>\n",
       "      <td>966.37</td>\n",
       "      <td>966.37</td>\n",
       "      <td>966.37</td>\n",
       "      <td>966.37</td>\n",
       "      <td>0.000000</td>\n",
       "      <td>0.000000</td>\n",
       "    </tr>\n",
       "    <tr>\n",
       "      <th>525595</th>\n",
       "      <td>2017-01-01 00:04:00</td>\n",
       "      <td>00</td>\n",
       "      <td>04</td>\n",
       "      <td>966.37</td>\n",
       "      <td>966.37</td>\n",
       "      <td>966.37</td>\n",
       "      <td>966.37</td>\n",
       "      <td>0.000000</td>\n",
       "      <td>0.000000</td>\n",
       "    </tr>\n",
       "    <tr>\n",
       "      <th>525594</th>\n",
       "      <td>2017-01-01 00:05:00</td>\n",
       "      <td>00</td>\n",
       "      <td>05</td>\n",
       "      <td>966.43</td>\n",
       "      <td>966.43</td>\n",
       "      <td>966.43</td>\n",
       "      <td>966.43</td>\n",
       "      <td>0.107000</td>\n",
       "      <td>103.408010</td>\n",
       "    </tr>\n",
       "  </tbody>\n",
       "</table>\n",
       "</div>"
      ],
      "text/plain": [
       "                      date hours minutes    open    high     low   close  \\\n",
       "525598 2017-01-01 00:01:00    00      01  966.34  966.34  966.34  966.34   \n",
       "525597 2017-01-01 00:02:00    00      02  966.16  966.37  966.16  966.37   \n",
       "525596 2017-01-01 00:03:00    00      03  966.37  966.37  966.37  966.37   \n",
       "525595 2017-01-01 00:04:00    00      04  966.37  966.37  966.37  966.37   \n",
       "525594 2017-01-01 00:05:00    00      05  966.43  966.43  966.43  966.43   \n",
       "\n",
       "        Volume BTC   Volume USD  \n",
       "525598    7.610000  7353.847400  \n",
       "525597    8.087376  7815.397864  \n",
       "525596    0.000000     0.000000  \n",
       "525595    0.000000     0.000000  \n",
       "525594    0.107000   103.408010  "
      ]
     },
     "execution_count": 14,
     "metadata": {},
     "output_type": "execute_result"
    }
   ],
   "source": [
    "\n",
    "BTC_df_date[\"hours\"] = BTC_df_date[\"date\"].dt.strftime('%H')\n",
    "BTC_df_date[\"minutes\"] = BTC_df_date[\"date\"].dt.strftime('%M')\n",
    "\n",
    "new_order = ['date', 'hours', 'minutes', 'open', 'high', 'low', 'close', 'Volume BTC', 'Volume USD']\n",
    "BTC_df_date = BTC_df_date[new_order]\n",
    "\n",
    "BTC_df_date.head()"
   ]
  },
  {
   "cell_type": "markdown",
   "metadata": {},
   "source": [
    "Data Describe"
   ]
  },
  {
   "cell_type": "code",
   "execution_count": 23,
   "metadata": {},
   "outputs": [
    {
     "data": {
      "text/html": [
       "<div>\n",
       "<style scoped>\n",
       "    .dataframe tbody tr th:only-of-type {\n",
       "        vertical-align: middle;\n",
       "    }\n",
       "\n",
       "    .dataframe tbody tr th {\n",
       "        vertical-align: top;\n",
       "    }\n",
       "\n",
       "    .dataframe thead th {\n",
       "        text-align: right;\n",
       "    }\n",
       "</style>\n",
       "<table border=\"1\" class=\"dataframe\">\n",
       "  <thead>\n",
       "    <tr style=\"text-align: right;\">\n",
       "      <th></th>\n",
       "      <th>count</th>\n",
       "      <th>mean</th>\n",
       "      <th>std</th>\n",
       "      <th>min</th>\n",
       "      <th>25%</th>\n",
       "      <th>50%</th>\n",
       "      <th>75%</th>\n",
       "      <th>max</th>\n",
       "    </tr>\n",
       "  </thead>\n",
       "  <tbody>\n",
       "    <tr>\n",
       "      <th>open</th>\n",
       "      <td>2675301.0</td>\n",
       "      <td>16209.934130</td>\n",
       "      <td>17422.284122</td>\n",
       "      <td>752.00</td>\n",
       "      <td>5599.040000</td>\n",
       "      <td>8703.120000</td>\n",
       "      <td>15500.000000</td>\n",
       "      <td>6.900000e+04</td>\n",
       "    </tr>\n",
       "    <tr>\n",
       "      <th>high</th>\n",
       "      <td>2675301.0</td>\n",
       "      <td>16219.884786</td>\n",
       "      <td>17432.005397</td>\n",
       "      <td>752.81</td>\n",
       "      <td>5602.000000</td>\n",
       "      <td>8709.860000</td>\n",
       "      <td>15510.000000</td>\n",
       "      <td>6.900000e+04</td>\n",
       "    </tr>\n",
       "    <tr>\n",
       "      <th>low</th>\n",
       "      <td>2675301.0</td>\n",
       "      <td>16199.614220</td>\n",
       "      <td>17412.357549</td>\n",
       "      <td>751.34</td>\n",
       "      <td>5594.980000</td>\n",
       "      <td>8696.910000</td>\n",
       "      <td>15487.930000</td>\n",
       "      <td>6.879999e+04</td>\n",
       "    </tr>\n",
       "    <tr>\n",
       "      <th>close</th>\n",
       "      <td>2675301.0</td>\n",
       "      <td>16209.956812</td>\n",
       "      <td>17422.441952</td>\n",
       "      <td>752.04</td>\n",
       "      <td>5598.880000</td>\n",
       "      <td>8702.810000</td>\n",
       "      <td>15500.000000</td>\n",
       "      <td>6.900000e+04</td>\n",
       "    </tr>\n",
       "    <tr>\n",
       "      <th>Volume BTC</th>\n",
       "      <td>2675301.0</td>\n",
       "      <td>6.130515</td>\n",
       "      <td>16.292996</td>\n",
       "      <td>0.00</td>\n",
       "      <td>0.251895</td>\n",
       "      <td>1.467694</td>\n",
       "      <td>5.507826</td>\n",
       "      <td>1.616060e+03</td>\n",
       "    </tr>\n",
       "    <tr>\n",
       "      <th>Volume USD</th>\n",
       "      <td>2675301.0</td>\n",
       "      <td>70794.025116</td>\n",
       "      <td>203035.282225</td>\n",
       "      <td>0.00</td>\n",
       "      <td>2244.546085</td>\n",
       "      <td>14664.666104</td>\n",
       "      <td>58659.083903</td>\n",
       "      <td>1.396792e+07</td>\n",
       "    </tr>\n",
       "  </tbody>\n",
       "</table>\n",
       "</div>"
      ],
      "text/plain": [
       "                count          mean            std     min          25%  \\\n",
       "open        2675301.0  16209.934130   17422.284122  752.00  5599.040000   \n",
       "high        2675301.0  16219.884786   17432.005397  752.81  5602.000000   \n",
       "low         2675301.0  16199.614220   17412.357549  751.34  5594.980000   \n",
       "close       2675301.0  16209.956812   17422.441952  752.04  5598.880000   \n",
       "Volume BTC  2675301.0      6.130515      16.292996    0.00     0.251895   \n",
       "Volume USD  2675301.0  70794.025116  203035.282225    0.00  2244.546085   \n",
       "\n",
       "                     50%           75%           max  \n",
       "open         8703.120000  15500.000000  6.900000e+04  \n",
       "high         8709.860000  15510.000000  6.900000e+04  \n",
       "low          8696.910000  15487.930000  6.879999e+04  \n",
       "close        8702.810000  15500.000000  6.900000e+04  \n",
       "Volume BTC      1.467694      5.507826  1.616060e+03  \n",
       "Volume USD  14664.666104  58659.083903  1.396792e+07  "
      ]
     },
     "execution_count": 23,
     "metadata": {},
     "output_type": "execute_result"
    }
   ],
   "source": [
    "cols = ['open', 'high', 'low', 'close', 'Volume BTC', 'Volume USD']\n",
    "BTC_df_date[cols].describe().T"
   ]
  },
  {
   "cell_type": "markdown",
   "metadata": {},
   "source": [
    "Correlação"
   ]
  },
  {
   "cell_type": "code",
   "execution_count": 19,
   "metadata": {},
   "outputs": [
    {
     "data": {
      "text/html": [
       "<div>\n",
       "<style scoped>\n",
       "    .dataframe tbody tr th:only-of-type {\n",
       "        vertical-align: middle;\n",
       "    }\n",
       "\n",
       "    .dataframe tbody tr th {\n",
       "        vertical-align: top;\n",
       "    }\n",
       "\n",
       "    .dataframe thead th {\n",
       "        text-align: right;\n",
       "    }\n",
       "</style>\n",
       "<table border=\"1\" class=\"dataframe\">\n",
       "  <thead>\n",
       "    <tr style=\"text-align: right;\">\n",
       "      <th></th>\n",
       "      <th>date</th>\n",
       "      <th>hours</th>\n",
       "      <th>minutes</th>\n",
       "      <th>open</th>\n",
       "      <th>high</th>\n",
       "      <th>low</th>\n",
       "      <th>close</th>\n",
       "      <th>Volume BTC</th>\n",
       "      <th>Volume USD</th>\n",
       "    </tr>\n",
       "  </thead>\n",
       "  <tbody>\n",
       "    <tr>\n",
       "      <th>date</th>\n",
       "      <td>1.000000</td>\n",
       "      <td>0.000490</td>\n",
       "      <td>0.000003</td>\n",
       "      <td>0.779437</td>\n",
       "      <td>0.779404</td>\n",
       "      <td>0.779484</td>\n",
       "      <td>0.779437</td>\n",
       "      <td>-0.124351</td>\n",
       "      <td>0.132140</td>\n",
       "    </tr>\n",
       "    <tr>\n",
       "      <th>hours</th>\n",
       "      <td>0.000490</td>\n",
       "      <td>1.000000</td>\n",
       "      <td>0.000017</td>\n",
       "      <td>0.000331</td>\n",
       "      <td>0.000360</td>\n",
       "      <td>0.000295</td>\n",
       "      <td>0.000332</td>\n",
       "      <td>0.035704</td>\n",
       "      <td>0.030170</td>\n",
       "    </tr>\n",
       "    <tr>\n",
       "      <th>minutes</th>\n",
       "      <td>0.000003</td>\n",
       "      <td>0.000017</td>\n",
       "      <td>1.000000</td>\n",
       "      <td>-0.000007</td>\n",
       "      <td>-0.000029</td>\n",
       "      <td>0.000014</td>\n",
       "      <td>-0.000008</td>\n",
       "      <td>-0.014853</td>\n",
       "      <td>-0.014346</td>\n",
       "    </tr>\n",
       "    <tr>\n",
       "      <th>open</th>\n",
       "      <td>0.779437</td>\n",
       "      <td>0.000331</td>\n",
       "      <td>-0.000007</td>\n",
       "      <td>1.000000</td>\n",
       "      <td>0.999999</td>\n",
       "      <td>0.999999</td>\n",
       "      <td>0.999999</td>\n",
       "      <td>-0.100665</td>\n",
       "      <td>0.193483</td>\n",
       "    </tr>\n",
       "    <tr>\n",
       "      <th>high</th>\n",
       "      <td>0.779404</td>\n",
       "      <td>0.000360</td>\n",
       "      <td>-0.000029</td>\n",
       "      <td>0.999999</td>\n",
       "      <td>1.000000</td>\n",
       "      <td>0.999998</td>\n",
       "      <td>0.999999</td>\n",
       "      <td>-0.100439</td>\n",
       "      <td>0.193935</td>\n",
       "    </tr>\n",
       "    <tr>\n",
       "      <th>low</th>\n",
       "      <td>0.779484</td>\n",
       "      <td>0.000295</td>\n",
       "      <td>0.000014</td>\n",
       "      <td>0.999999</td>\n",
       "      <td>0.999998</td>\n",
       "      <td>1.000000</td>\n",
       "      <td>0.999999</td>\n",
       "      <td>-0.100938</td>\n",
       "      <td>0.192952</td>\n",
       "    </tr>\n",
       "    <tr>\n",
       "      <th>close</th>\n",
       "      <td>0.779437</td>\n",
       "      <td>0.000332</td>\n",
       "      <td>-0.000008</td>\n",
       "      <td>0.999999</td>\n",
       "      <td>0.999999</td>\n",
       "      <td>0.999999</td>\n",
       "      <td>1.000000</td>\n",
       "      <td>-0.100687</td>\n",
       "      <td>0.193455</td>\n",
       "    </tr>\n",
       "    <tr>\n",
       "      <th>Volume BTC</th>\n",
       "      <td>-0.124351</td>\n",
       "      <td>0.035704</td>\n",
       "      <td>-0.014853</td>\n",
       "      <td>-0.100665</td>\n",
       "      <td>-0.100439</td>\n",
       "      <td>-0.100938</td>\n",
       "      <td>-0.100687</td>\n",
       "      <td>1.000000</td>\n",
       "      <td>0.652679</td>\n",
       "    </tr>\n",
       "    <tr>\n",
       "      <th>Volume USD</th>\n",
       "      <td>0.132140</td>\n",
       "      <td>0.030170</td>\n",
       "      <td>-0.014346</td>\n",
       "      <td>0.193483</td>\n",
       "      <td>0.193935</td>\n",
       "      <td>0.192952</td>\n",
       "      <td>0.193455</td>\n",
       "      <td>0.652679</td>\n",
       "      <td>1.000000</td>\n",
       "    </tr>\n",
       "  </tbody>\n",
       "</table>\n",
       "</div>"
      ],
      "text/plain": [
       "                date     hours   minutes      open      high       low  \\\n",
       "date        1.000000  0.000490  0.000003  0.779437  0.779404  0.779484   \n",
       "hours       0.000490  1.000000  0.000017  0.000331  0.000360  0.000295   \n",
       "minutes     0.000003  0.000017  1.000000 -0.000007 -0.000029  0.000014   \n",
       "open        0.779437  0.000331 -0.000007  1.000000  0.999999  0.999999   \n",
       "high        0.779404  0.000360 -0.000029  0.999999  1.000000  0.999998   \n",
       "low         0.779484  0.000295  0.000014  0.999999  0.999998  1.000000   \n",
       "close       0.779437  0.000332 -0.000008  0.999999  0.999999  0.999999   \n",
       "Volume BTC -0.124351  0.035704 -0.014853 -0.100665 -0.100439 -0.100938   \n",
       "Volume USD  0.132140  0.030170 -0.014346  0.193483  0.193935  0.192952   \n",
       "\n",
       "               close  Volume BTC  Volume USD  \n",
       "date        0.779437   -0.124351    0.132140  \n",
       "hours       0.000332    0.035704    0.030170  \n",
       "minutes    -0.000008   -0.014853   -0.014346  \n",
       "open        0.999999   -0.100665    0.193483  \n",
       "high        0.999999   -0.100439    0.193935  \n",
       "low         0.999999   -0.100938    0.192952  \n",
       "close       1.000000   -0.100687    0.193455  \n",
       "Volume BTC -0.100687    1.000000    0.652679  \n",
       "Volume USD  0.193455    0.652679    1.000000  "
      ]
     },
     "execution_count": 19,
     "metadata": {},
     "output_type": "execute_result"
    }
   ],
   "source": [
    "BTC_df_date.corr()"
   ]
  },
  {
   "cell_type": "code",
   "execution_count": 15,
   "metadata": {},
   "outputs": [
    {
     "name": "stdout",
     "output_type": "stream",
     "text": [
      "['date', 'hours', 'minutes', 'open', 'high', 'low', 'close', 'Volume BTC', 'Volume USD']\n"
     ]
    },
    {
     "data": {
      "text/plain": [
       "<Axes: >"
      ]
     },
     "execution_count": 15,
     "metadata": {},
     "output_type": "execute_result"
    },
    {
     "data": {
      "image/png": "[encoded data removed]",
      "text/plain": [
       "<Figure size 640x480 with 2 Axes>"
      ]
     },
     "metadata": {},
     "output_type": "display_data"
    }
   ],
   "source": [
    "atributos = list(BTC_df_date.columns)\n",
    "print(atributos)\n",
    "sns.heatmap(BTC_df_date[atributos[:]].corr(), cmap='coolwarm_r')"
   ]
  }
 ],
 "metadata": {
  "kernelspec": {
   "display_name": ".venv",
   "language": "python",
   "name": "python3"
  },
  "language_info": {
   "codemirror_mode": {
    "name": "ipython",
    "version": 3
   },
   "file_extension": ".py",
   "mimetype": "text/x-python",
   "name": "python",
   "nbconvert_exporter": "python",
   "pygments_lexer": "ipython3",
   "version": "3.8.10"
  }
 },
 "nbformat": 4,
 "nbformat_minor": 2
}
