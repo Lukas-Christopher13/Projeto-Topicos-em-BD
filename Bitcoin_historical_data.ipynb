{
 "cells": [
  {
   "cell_type": "code",
   "execution_count": 6,
   "metadata": {},
   "outputs": [],
   "source": [
    "import pandas as pd"
   ]
  },
  {
   "cell_type": "markdown",
   "metadata": {},
   "source": [
    "Read csv files"
   ]
  },
  {
   "cell_type": "code",
   "execution_count": 7,
   "metadata": {},
   "outputs": [],
   "source": [
    "df_BTC_2017 = pd.read_csv(\"archive/BTC-2017min.csv\")\n",
    "df_BTC_2018 = pd.read_csv(\"archive/BTC-2018min.csv\")\n",
    "df_BTC_2019 = pd.read_csv(\"archive/BTC-2019min.csv\")\n",
    "df_BTC_2020 = pd.read_csv(\"archive/BTC-2020min.csv\")\n",
    "df_BTC_2021 = pd.read_csv(\"archive/BTC-2021min.csv\")"
   ]
  },
  {
   "cell_type": "markdown",
   "metadata": {},
   "source": [
    "Concat all datafremes"
   ]
  },
  {
   "cell_type": "code",
   "execution_count": 14,
   "metadata": {},
   "outputs": [],
   "source": [
    "concat_BTC = pd.concat([df_BTC_2017, df_BTC_2018], axis=0)\n",
    "concat_BTC = pd.concat([concat_BTC, df_BTC_2019], axis=0)\n",
    "concat_BTC = pd.concat([concat_BTC, df_BTC_2020], axis=0)\n",
    "concat_BTC = pd.concat([concat_BTC, df_BTC_2021], axis=0)"
   ]
  },
  {
   "cell_type": "markdown",
   "metadata": {},
   "source": [
    "Sort BTC dataframe by date"
   ]
  },
  {
   "cell_type": "code",
   "execution_count": 97,
   "metadata": {},
   "outputs": [
    {
     "data": {
      "text/html": [
       "<div>\n",
       "<style scoped>\n",
       "    .dataframe tbody tr th:only-of-type {\n",
       "        vertical-align: middle;\n",
       "    }\n",
       "\n",
       "    .dataframe tbody tr th {\n",
       "        vertical-align: top;\n",
       "    }\n",
       "\n",
       "    .dataframe thead th {\n",
       "        text-align: right;\n",
       "    }\n",
       "</style>\n",
       "<table border=\"1\" class=\"dataframe\">\n",
       "  <thead>\n",
       "    <tr style=\"text-align: right;\">\n",
       "      <th></th>\n",
       "      <th>unix</th>\n",
       "      <th>date</th>\n",
       "      <th>symbol</th>\n",
       "      <th>open</th>\n",
       "      <th>high</th>\n",
       "      <th>low</th>\n",
       "      <th>close</th>\n",
       "      <th>Volume BTC</th>\n",
       "      <th>Volume USD</th>\n",
       "    </tr>\n",
       "  </thead>\n",
       "  <tbody>\n",
       "    <tr>\n",
       "      <th>525598</th>\n",
       "      <td>1483228860</td>\n",
       "      <td>2017-01-01 00:01:00</td>\n",
       "      <td>BTC/USD</td>\n",
       "      <td>966.34</td>\n",
       "      <td>966.34</td>\n",
       "      <td>966.34</td>\n",
       "      <td>966.34</td>\n",
       "      <td>7.610000</td>\n",
       "      <td>7353.847400</td>\n",
       "    </tr>\n",
       "    <tr>\n",
       "      <th>525597</th>\n",
       "      <td>1483228920</td>\n",
       "      <td>2017-01-01 00:02:00</td>\n",
       "      <td>BTC/USD</td>\n",
       "      <td>966.16</td>\n",
       "      <td>966.37</td>\n",
       "      <td>966.16</td>\n",
       "      <td>966.37</td>\n",
       "      <td>8.087376</td>\n",
       "      <td>7815.397864</td>\n",
       "    </tr>\n",
       "    <tr>\n",
       "      <th>525596</th>\n",
       "      <td>1483228980</td>\n",
       "      <td>2017-01-01 00:03:00</td>\n",
       "      <td>BTC/USD</td>\n",
       "      <td>966.37</td>\n",
       "      <td>966.37</td>\n",
       "      <td>966.37</td>\n",
       "      <td>966.37</td>\n",
       "      <td>0.000000</td>\n",
       "      <td>0.000000</td>\n",
       "    </tr>\n",
       "    <tr>\n",
       "      <th>525595</th>\n",
       "      <td>1483229040</td>\n",
       "      <td>2017-01-01 00:04:00</td>\n",
       "      <td>BTC/USD</td>\n",
       "      <td>966.37</td>\n",
       "      <td>966.37</td>\n",
       "      <td>966.37</td>\n",
       "      <td>966.37</td>\n",
       "      <td>0.000000</td>\n",
       "      <td>0.000000</td>\n",
       "    </tr>\n",
       "    <tr>\n",
       "      <th>525594</th>\n",
       "      <td>1483229100</td>\n",
       "      <td>2017-01-01 00:05:00</td>\n",
       "      <td>BTC/USD</td>\n",
       "      <td>966.43</td>\n",
       "      <td>966.43</td>\n",
       "      <td>966.43</td>\n",
       "      <td>966.43</td>\n",
       "      <td>0.107000</td>\n",
       "      <td>103.408010</td>\n",
       "    </tr>\n",
       "  </tbody>\n",
       "</table>\n",
       "</div>"
      ],
      "text/plain": [
       "              unix                date   symbol    open    high     low  \\\n",
       "525598  1483228860 2017-01-01 00:01:00  BTC/USD  966.34  966.34  966.34   \n",
       "525597  1483228920 2017-01-01 00:02:00  BTC/USD  966.16  966.37  966.16   \n",
       "525596  1483228980 2017-01-01 00:03:00  BTC/USD  966.37  966.37  966.37   \n",
       "525595  1483229040 2017-01-01 00:04:00  BTC/USD  966.37  966.37  966.37   \n",
       "525594  1483229100 2017-01-01 00:05:00  BTC/USD  966.43  966.43  966.43   \n",
       "\n",
       "         close  Volume BTC   Volume USD  \n",
       "525598  966.34    7.610000  7353.847400  \n",
       "525597  966.37    8.087376  7815.397864  \n",
       "525596  966.37    0.000000     0.000000  \n",
       "525595  966.37    0.000000     0.000000  \n",
       "525594  966.43    0.107000   103.408010  "
      ]
     },
     "execution_count": 97,
     "metadata": {},
     "output_type": "execute_result"
    }
   ],
   "source": [
    "concat_BTC[\"date\"] = pd.to_datetime(concat_BTC[\"date\"])\n",
    "BTC_df = concat_BTC.sort_values(by=\"date\")\n",
    "\n",
    "BTC_df.head()"
   ]
  },
  {
   "cell_type": "markdown",
   "metadata": {},
   "source": [
    "Cleaning Data"
   ]
  },
  {
   "cell_type": "code",
   "execution_count": 19,
   "metadata": {},
   "outputs": [
    {
     "data": {
      "text/plain": [
       "unix          0\n",
       "date          0\n",
       "symbol        0\n",
       "open          0\n",
       "high          0\n",
       "low           0\n",
       "close         0\n",
       "Volume BTC    0\n",
       "Volume USD    0\n",
       "dtype: int64"
      ]
     },
     "execution_count": 19,
     "metadata": {},
     "output_type": "execute_result"
    }
   ],
   "source": [
    "BTC_df.isnull().sum()"
   ]
  },
  {
   "cell_type": "code",
   "execution_count": 20,
   "metadata": {},
   "outputs": [
    {
     "name": "stdout",
     "output_type": "stream",
     "text": [
      "<class 'pandas.core.frame.DataFrame'>\n",
      "Index: 2675301 entries, 525598 to 0\n",
      "Data columns (total 9 columns):\n",
      " #   Column      Dtype         \n",
      "---  ------      -----         \n",
      " 0   unix        int64         \n",
      " 1   date        datetime64[ns]\n",
      " 2   symbol      object        \n",
      " 3   open        float64       \n",
      " 4   high        float64       \n",
      " 5   low         float64       \n",
      " 6   close       float64       \n",
      " 7   Volume BTC  float64       \n",
      " 8   Volume USD  float64       \n",
      "dtypes: datetime64[ns](1), float64(6), int64(1), object(1)\n",
      "memory usage: 204.1+ MB\n"
     ]
    }
   ],
   "source": [
    "BTC_df.info()"
   ]
  },
  {
   "cell_type": "markdown",
   "metadata": {},
   "source": [
    "Checking for Null Values"
   ]
  },
  {
   "cell_type": "code",
   "execution_count": 22,
   "metadata": {},
   "outputs": [
    {
     "name": "stdout",
     "output_type": "stream",
     "text": [
      "Null values: 0\n"
     ]
    }
   ],
   "source": [
    "print(\"Null values:\", BTC_df.isnull().values.sum())"
   ]
  },
  {
   "cell_type": "code",
   "execution_count": 23,
   "metadata": {},
   "outputs": [
    {
     "name": "stdout",
     "output_type": "stream",
     "text": [
      "NaN values: False\n"
     ]
    }
   ],
   "source": [
    "print(\"NaN values:\", BTC_df.isnull().values.any())"
   ]
  },
  {
   "cell_type": "code",
   "execution_count": null,
   "metadata": {},
   "outputs": [],
   "source": [
    "#criar as funções que limpam os dados mesmo assim "
   ]
  },
  {
   "cell_type": "markdown",
   "metadata": {},
   "source": [
    "Exploratory Data Analysis"
   ]
  },
  {
   "cell_type": "code",
   "execution_count": 99,
   "metadata": {},
   "outputs": [
    {
     "name": "stdout",
     "output_type": "stream",
     "text": [
      "Start date: 2017-01-01 00:01:00\n",
      "End date: 2022-03-01 03:43:00\n"
     ]
    }
   ],
   "source": [
    "#print the start date and the end  date\n",
    "\n",
    "start_date = BTC_df.iloc[0][1]\n",
    "end_date = BTC_df.iloc[-1][1]\n",
    "\n",
    "print(\"Start date:\", start_date)\n",
    "print(\"End date:\", end_date)"
   ]
  },
  {
   "cell_type": "code",
   "execution_count": 102,
   "metadata": {},
   "outputs": [
    {
     "data": {
      "text/html": [
       "<div>\n",
       "<style scoped>\n",
       "    .dataframe tbody tr th:only-of-type {\n",
       "        vertical-align: middle;\n",
       "    }\n",
       "\n",
       "    .dataframe tbody tr th {\n",
       "        vertical-align: top;\n",
       "    }\n",
       "\n",
       "    .dataframe thead th {\n",
       "        text-align: right;\n",
       "    }\n",
       "</style>\n",
       "<table border=\"1\" class=\"dataframe\">\n",
       "  <thead>\n",
       "    <tr style=\"text-align: right;\">\n",
       "      <th></th>\n",
       "      <th>unix</th>\n",
       "      <th>date</th>\n",
       "      <th>symbol</th>\n",
       "      <th>open</th>\n",
       "      <th>high</th>\n",
       "      <th>low</th>\n",
       "      <th>close</th>\n",
       "      <th>Volume BTC</th>\n",
       "      <th>Volume USD</th>\n",
       "    </tr>\n",
       "  </thead>\n",
       "  <tbody>\n",
       "    <tr>\n",
       "      <th>525598</th>\n",
       "      <td>1483228860</td>\n",
       "      <td>2017-01-01</td>\n",
       "      <td>BTC/USD</td>\n",
       "      <td>966.34</td>\n",
       "      <td>966.34</td>\n",
       "      <td>966.34</td>\n",
       "      <td>966.34</td>\n",
       "      <td>7.610000</td>\n",
       "      <td>7353.847400</td>\n",
       "    </tr>\n",
       "    <tr>\n",
       "      <th>525597</th>\n",
       "      <td>1483228920</td>\n",
       "      <td>2017-01-01</td>\n",
       "      <td>BTC/USD</td>\n",
       "      <td>966.16</td>\n",
       "      <td>966.37</td>\n",
       "      <td>966.16</td>\n",
       "      <td>966.37</td>\n",
       "      <td>8.087376</td>\n",
       "      <td>7815.397864</td>\n",
       "    </tr>\n",
       "    <tr>\n",
       "      <th>525596</th>\n",
       "      <td>1483228980</td>\n",
       "      <td>2017-01-01</td>\n",
       "      <td>BTC/USD</td>\n",
       "      <td>966.37</td>\n",
       "      <td>966.37</td>\n",
       "      <td>966.37</td>\n",
       "      <td>966.37</td>\n",
       "      <td>0.000000</td>\n",
       "      <td>0.000000</td>\n",
       "    </tr>\n",
       "    <tr>\n",
       "      <th>525595</th>\n",
       "      <td>1483229040</td>\n",
       "      <td>2017-01-01</td>\n",
       "      <td>BTC/USD</td>\n",
       "      <td>966.37</td>\n",
       "      <td>966.37</td>\n",
       "      <td>966.37</td>\n",
       "      <td>966.37</td>\n",
       "      <td>0.000000</td>\n",
       "      <td>0.000000</td>\n",
       "    </tr>\n",
       "    <tr>\n",
       "      <th>525594</th>\n",
       "      <td>1483229100</td>\n",
       "      <td>2017-01-01</td>\n",
       "      <td>BTC/USD</td>\n",
       "      <td>966.43</td>\n",
       "      <td>966.43</td>\n",
       "      <td>966.43</td>\n",
       "      <td>966.43</td>\n",
       "      <td>0.107000</td>\n",
       "      <td>103.408010</td>\n",
       "    </tr>\n",
       "  </tbody>\n",
       "</table>\n",
       "</div>"
      ],
      "text/plain": [
       "              unix        date   symbol    open    high     low   close  \\\n",
       "525598  1483228860  2017-01-01  BTC/USD  966.34  966.34  966.34  966.34   \n",
       "525597  1483228920  2017-01-01  BTC/USD  966.16  966.37  966.16  966.37   \n",
       "525596  1483228980  2017-01-01  BTC/USD  966.37  966.37  966.37  966.37   \n",
       "525595  1483229040  2017-01-01  BTC/USD  966.37  966.37  966.37  966.37   \n",
       "525594  1483229100  2017-01-01  BTC/USD  966.43  966.43  966.43  966.43   \n",
       "\n",
       "        Volume BTC   Volume USD  \n",
       "525598    7.610000  7353.847400  \n",
       "525597    8.087376  7815.397864  \n",
       "525596    0.000000     0.000000  \n",
       "525595    0.000000     0.000000  \n",
       "525594    0.107000   103.408010  "
      ]
     },
     "execution_count": 102,
     "metadata": {},
     "output_type": "execute_result"
    }
   ],
   "source": [
    "BTC_df_date = BTC_df.copy()\n",
    "BTC_df_date[\"date\"] = BTC_df_date[\"date\"].dt.date\n",
    "\n",
    "BTC_df_date.head()"
   ]
  },
  {
   "cell_type": "code",
   "execution_count": 104,
   "metadata": {},
   "outputs": [
    {
     "data": {
      "text/html": [
       "<div>\n",
       "<style scoped>\n",
       "    .dataframe tbody tr th:only-of-type {\n",
       "        vertical-align: middle;\n",
       "    }\n",
       "\n",
       "    .dataframe tbody tr th {\n",
       "        vertical-align: top;\n",
       "    }\n",
       "\n",
       "    .dataframe thead tr th {\n",
       "        text-align: left;\n",
       "    }\n",
       "\n",
       "    .dataframe thead tr:last-of-type th {\n",
       "        text-align: right;\n",
       "    }\n",
       "</style>\n",
       "<table border=\"1\" class=\"dataframe\">\n",
       "  <thead>\n",
       "    <tr>\n",
       "      <th></th>\n",
       "      <th colspan=\"3\" halign=\"left\">open</th>\n",
       "    </tr>\n",
       "    <tr>\n",
       "      <th></th>\n",
       "      <th>min</th>\n",
       "      <th>max</th>\n",
       "      <th>mean</th>\n",
       "    </tr>\n",
       "    <tr>\n",
       "      <th>date</th>\n",
       "      <th></th>\n",
       "      <th></th>\n",
       "      <th></th>\n",
       "    </tr>\n",
       "  </thead>\n",
       "  <tbody>\n",
       "    <tr>\n",
       "      <th>2017-01-01</th>\n",
       "      <td>960.53</td>\n",
       "      <td>1004.87</td>\n",
       "      <td>977.256602</td>\n",
       "    </tr>\n",
       "    <tr>\n",
       "      <th>2017-01-02</th>\n",
       "      <td>992.69</td>\n",
       "      <td>1032.00</td>\n",
       "      <td>1012.267604</td>\n",
       "    </tr>\n",
       "    <tr>\n",
       "      <th>2017-01-03</th>\n",
       "      <td>1001.00</td>\n",
       "      <td>1038.02</td>\n",
       "      <td>1020.001535</td>\n",
       "    </tr>\n",
       "    <tr>\n",
       "      <th>2017-01-04</th>\n",
       "      <td>1031.90</td>\n",
       "      <td>1139.70</td>\n",
       "      <td>1076.558840</td>\n",
       "    </tr>\n",
       "    <tr>\n",
       "      <th>2017-01-05</th>\n",
       "      <td>889.00</td>\n",
       "      <td>1136.72</td>\n",
       "      <td>1043.608646</td>\n",
       "    </tr>\n",
       "    <tr>\n",
       "      <th>...</th>\n",
       "      <td>...</td>\n",
       "      <td>...</td>\n",
       "      <td>...</td>\n",
       "    </tr>\n",
       "    <tr>\n",
       "      <th>2022-02-25</th>\n",
       "      <td>38059.69</td>\n",
       "      <td>39678.17</td>\n",
       "      <td>38839.029090</td>\n",
       "    </tr>\n",
       "    <tr>\n",
       "      <th>2022-02-26</th>\n",
       "      <td>38666.63</td>\n",
       "      <td>40089.12</td>\n",
       "      <td>39234.306611</td>\n",
       "    </tr>\n",
       "    <tr>\n",
       "      <th>2022-02-27</th>\n",
       "      <td>37124.31</td>\n",
       "      <td>39827.93</td>\n",
       "      <td>38719.760201</td>\n",
       "    </tr>\n",
       "    <tr>\n",
       "      <th>2022-02-28</th>\n",
       "      <td>37472.27</td>\n",
       "      <td>43901.10</td>\n",
       "      <td>39415.151931</td>\n",
       "    </tr>\n",
       "    <tr>\n",
       "      <th>2022-03-01</th>\n",
       "      <td>42918.62</td>\n",
       "      <td>43621.64</td>\n",
       "      <td>43266.107040</td>\n",
       "    </tr>\n",
       "  </tbody>\n",
       "</table>\n",
       "<p>1860 rows × 3 columns</p>\n",
       "</div>"
      ],
      "text/plain": [
       "                open                        \n",
       "                 min       max          mean\n",
       "date                                        \n",
       "2017-01-01    960.53   1004.87    977.256602\n",
       "2017-01-02    992.69   1032.00   1012.267604\n",
       "2017-01-03   1001.00   1038.02   1020.001535\n",
       "2017-01-04   1031.90   1139.70   1076.558840\n",
       "2017-01-05    889.00   1136.72   1043.608646\n",
       "...              ...       ...           ...\n",
       "2022-02-25  38059.69  39678.17  38839.029090\n",
       "2022-02-26  38666.63  40089.12  39234.306611\n",
       "2022-02-27  37124.31  39827.93  38719.760201\n",
       "2022-02-28  37472.27  43901.10  39415.151931\n",
       "2022-03-01  42918.62  43621.64  43266.107040\n",
       "\n",
       "[1860 rows x 3 columns]"
      ]
     },
     "execution_count": 104,
     "metadata": {},
     "output_type": "execute_result"
    }
   ],
   "source": [
    "BTC_df_date.groupby(\"date\").agg({\n",
    "    \"open\": ['min', 'max', 'mean'],\n",
    "})"
   ]
  }
 ],
 "metadata": {
  "kernelspec": {
   "display_name": ".venv",
   "language": "python",
   "name": "python3"
  },
  "language_info": {
   "codemirror_mode": {
    "name": "ipython",
    "version": 3
   },
   "file_extension": ".py",
   "mimetype": "text/x-python",
   "name": "python",
   "nbconvert_exporter": "python",
   "pygments_lexer": "ipython3",
   "version": "3.8.10"
  }
 },
 "nbformat": 4,
 "nbformat_minor": 2
}
